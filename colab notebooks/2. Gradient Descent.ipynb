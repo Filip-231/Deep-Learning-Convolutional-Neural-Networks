{
 "cells": [
  {
   "cell_type": "markdown",
   "metadata": {
    "colab_type": "text",
    "id": "OuqknPcEjMhl"
   },
   "source": [
    "## 2. Gradient Descent\n"
   ]
  },
  {
   "cell_type": "markdown",
   "metadata": {
    "colab_type": "text",
    "id": "hf4LcyH_mee2"
   },
   "source": [
    "$$L(w)=w^2-4w$$\n",
    "\n",
    "\n",
    "$$\\frac{dL}{dw}=2*w -4\n",
    "$$"
   ]
  },
  {
   "cell_type": "code",
   "execution_count": 0,
   "metadata": {
    "colab": {},
    "colab_type": "code",
    "id": "mFxqTY4NjGSZ"
   },
   "outputs": [],
   "source": [
    "import numpy as np\n",
    "import matplotlib.pyplot as plt\n",
    "import seaborn as sns\n",
    "sns.set()\n"
   ]
  },
  {
   "cell_type": "code",
   "execution_count": 9,
   "metadata": {
    "colab": {
     "base_uri": "https://localhost:8080/",
     "height": 301
    },
    "colab_type": "code",
    "executionInfo": {
     "elapsed": 804,
     "status": "ok",
     "timestamp": 1591278934555,
     "user": {
      "displayName": "Filip Szmid",
      "photoUrl": "https://lh3.googleusercontent.com/a-/AOh14GjgOb5DpiMOc_X9zQy6rDIyMzRGFW-eHVsBiYrV=s64",
      "userId": "17667050139798954015"
     },
     "user_tz": -120
    },
    "id": "dNbt34_imdiA",
    "outputId": "d7611bba-759c-4647-f66c-f3cb9488f7ae"
   },
   "outputs": [
    {
     "data": {
      "text/plain": [
       "Text(0.5, 1.0, 'Loss Function')"
      ]
     },
     "execution_count": 9,
     "metadata": {
      "tags": []
     },
     "output_type": "execute_result"
    },
    {
     "data": {
      "image/png": "[encoded data removed]",
      "text/plain": [
       "<Figure size 432x288 with 1 Axes>"
      ]
     },
     "metadata": {
      "tags": []
     },
     "output_type": "display_data"
    }
   ],
   "source": [
    "w=np.arange(-10,14,0.1)\n",
    "Loss=w**2-4*w\n",
    "point=-5\n",
    "plt.plot(w,Loss)\n",
    "plt.plot(point,point**2-4*point,'ro')\n",
    "plt.title(\"Loss Function\")"
   ]
  },
  {
   "cell_type": "code",
   "execution_count": 0,
   "metadata": {
    "colab": {},
    "colab_type": "code",
    "id": "uzl18wQWmyRs"
   },
   "outputs": [],
   "source": [
    "def gradient_descent(df=lambda w: 2*w-4, learning_rate=0.01, w_0=-5,max_iters=10000,precision=0.000001):\n",
    "  iters=0 #licznik iteracji\n",
    "  previous_step_size=1 # kontrolka kroku kolejnego spadku\n",
    "  \n",
    "\n",
    "  weights=[]\n",
    "  while  previous_step_size>precision and iters<max_iters :\n",
    "    w_prev=w_0\n",
    "    w_0=w_0 - learning_rate * df(w_prev)\n",
    "    previous_step_size=abs(w_0-w_prev)\n",
    "    iters+= 1\n",
    "    weights.append(w_0)\n",
    "    print('Iter #{}: obecny punkt: {}'.format(iters,w_0))\n",
    "  \n",
    "  print('Minimum globalne: {}'.format(w_0))\n",
    "  return weights\n"
   ]
  },
  {
   "cell_type": "code",
   "execution_count": 22,
   "metadata": {
    "colab": {
     "base_uri": "https://localhost:8080/",
     "height": 1000
    },
    "colab_type": "code",
    "executionInfo": {
     "elapsed": 455,
     "status": "ok",
     "timestamp": 1591279997088,
     "user": {
      "displayName": "Filip Szmid",
      "photoUrl": "https://lh3.googleusercontent.com/a-/AOh14GjgOb5DpiMOc_X9zQy6rDIyMzRGFW-eHVsBiYrV=s64",
      "userId": "17667050139798954015"
     },
     "user_tz": -120
    },
    "id": "Ag8ubygXmzX-",
    "outputId": "d2bd0649-1a70-4433-cc13-b93adea7f383"
   },
   "outputs": [
    {
     "name": "stdout",
     "output_type": "stream",
     "text": [
      "Iter #1: obecny punkt: -3.5999999999999996\n",
      "Iter #2: obecny punkt: -2.4799999999999995\n",
      "Iter #3: obecny punkt: -1.5839999999999996\n",
      "Iter #4: obecny punkt: -0.8671999999999996\n",
      "Iter #5: obecny punkt: -0.2937599999999997\n",
      "Iter #6: obecny punkt: 0.1649920000000003\n",
      "Iter #7: obecny punkt: 0.5319936000000003\n",
      "Iter #8: obecny punkt: 0.8255948800000003\n",
      "Iter #9: obecny punkt: 1.0604759040000002\n",
      "Iter #10: obecny punkt: 1.2483807232000002\n",
      "Iter #11: obecny punkt: 1.39870457856\n",
      "Iter #12: obecny punkt: 1.518963662848\n",
      "Iter #13: obecny punkt: 1.6151709302784\n",
      "Iter #14: obecny punkt: 1.69213674422272\n",
      "Iter #15: obecny punkt: 1.753709395378176\n",
      "Iter #16: obecny punkt: 1.8029675163025407\n",
      "Iter #17: obecny punkt: 1.8423740130420325\n",
      "Iter #18: obecny punkt: 1.873899210433626\n",
      "Iter #19: obecny punkt: 1.8991193683469008\n",
      "Iter #20: obecny punkt: 1.9192954946775207\n",
      "Iter #21: obecny punkt: 1.9354363957420166\n",
      "Iter #22: obecny punkt: 1.9483491165936133\n",
      "Iter #23: obecny punkt: 1.9586792932748907\n",
      "Iter #24: obecny punkt: 1.9669434346199126\n",
      "Iter #25: obecny punkt: 1.97355474769593\n",
      "Iter #26: obecny punkt: 1.9788437981567442\n",
      "Iter #27: obecny punkt: 1.9830750385253952\n",
      "Iter #28: obecny punkt: 1.9864600308203162\n",
      "Iter #29: obecny punkt: 1.9891680246562529\n",
      "Iter #30: obecny punkt: 1.9913344197250022\n",
      "Iter #31: obecny punkt: 1.9930675357800018\n",
      "Iter #32: obecny punkt: 1.9944540286240016\n",
      "Iter #33: obecny punkt: 1.9955632228992013\n",
      "Iter #34: obecny punkt: 1.9964505783193611\n",
      "Iter #35: obecny punkt: 1.9971604626554889\n",
      "Iter #36: obecny punkt: 1.997728370124391\n",
      "Iter #37: obecny punkt: 1.9981826960995128\n",
      "Iter #38: obecny punkt: 1.9985461568796103\n",
      "Iter #39: obecny punkt: 1.9988369255036882\n",
      "Iter #40: obecny punkt: 1.9990695404029506\n",
      "Iter #41: obecny punkt: 1.9992556323223605\n",
      "Iter #42: obecny punkt: 1.9994045058578884\n",
      "Iter #43: obecny punkt: 1.9995236046863107\n",
      "Iter #44: obecny punkt: 1.9996188837490485\n",
      "Iter #45: obecny punkt: 1.9996951069992388\n",
      "Iter #46: obecny punkt: 1.999756085599391\n",
      "Iter #47: obecny punkt: 1.9998048684795129\n",
      "Iter #48: obecny punkt: 1.9998438947836104\n",
      "Iter #49: obecny punkt: 1.9998751158268884\n",
      "Iter #50: obecny punkt: 1.9999000926615107\n",
      "Iter #51: obecny punkt: 1.9999200741292085\n",
      "Iter #52: obecny punkt: 1.9999360593033668\n",
      "Iter #53: obecny punkt: 1.9999488474426934\n",
      "Iter #54: obecny punkt: 1.9999590779541547\n",
      "Iter #55: obecny punkt: 1.9999672623633238\n",
      "Iter #56: obecny punkt: 1.999973809890659\n",
      "Iter #57: obecny punkt: 1.9999790479125272\n",
      "Iter #58: obecny punkt: 1.9999832383300218\n",
      "Iter #59: obecny punkt: 1.9999865906640175\n",
      "Iter #60: obecny punkt: 1.999989272531214\n",
      "Iter #61: obecny punkt: 1.9999914180249712\n",
      "Iter #62: obecny punkt: 1.9999931344199768\n",
      "Iter #63: obecny punkt: 1.9999945075359815\n",
      "Iter #64: obecny punkt: 1.9999956060287851\n",
      "Iter #65: obecny punkt: 1.999996484823028\n",
      "Minimum globalne: 1.999996484823028\n"
     ]
    },
    {
     "data": {
      "text/plain": [
       "[-3.5999999999999996,\n",
       " -2.4799999999999995,\n",
       " -1.5839999999999996,\n",
       " -0.8671999999999996,\n",
       " -0.2937599999999997,\n",
       " 0.1649920000000003,\n",
       " 0.5319936000000003,\n",
       " 0.8255948800000003,\n",
       " 1.0604759040000002,\n",
       " 1.2483807232000002,\n",
       " 1.39870457856,\n",
       " 1.518963662848,\n",
       " 1.6151709302784,\n",
       " 1.69213674422272,\n",
       " 1.753709395378176,\n",
       " 1.8029675163025407,\n",
       " 1.8423740130420325,\n",
       " 1.873899210433626,\n",
       " 1.8991193683469008,\n",
       " 1.9192954946775207,\n",
       " 1.9354363957420166,\n",
       " 1.9483491165936133,\n",
       " 1.9586792932748907,\n",
       " 1.9669434346199126,\n",
       " 1.97355474769593,\n",
       " 1.9788437981567442,\n",
       " 1.9830750385253952,\n",
       " 1.9864600308203162,\n",
       " 1.9891680246562529,\n",
       " 1.9913344197250022,\n",
       " 1.9930675357800018,\n",
       " 1.9944540286240016,\n",
       " 1.9955632228992013,\n",
       " 1.9964505783193611,\n",
       " 1.9971604626554889,\n",
       " 1.997728370124391,\n",
       " 1.9981826960995128,\n",
       " 1.9985461568796103,\n",
       " 1.9988369255036882,\n",
       " 1.9990695404029506,\n",
       " 1.9992556323223605,\n",
       " 1.9994045058578884,\n",
       " 1.9995236046863107,\n",
       " 1.9996188837490485,\n",
       " 1.9996951069992388,\n",
       " 1.999756085599391,\n",
       " 1.9998048684795129,\n",
       " 1.9998438947836104,\n",
       " 1.9998751158268884,\n",
       " 1.9999000926615107,\n",
       " 1.9999200741292085,\n",
       " 1.9999360593033668,\n",
       " 1.9999488474426934,\n",
       " 1.9999590779541547,\n",
       " 1.9999672623633238,\n",
       " 1.999973809890659,\n",
       " 1.9999790479125272,\n",
       " 1.9999832383300218,\n",
       " 1.9999865906640175,\n",
       " 1.999989272531214,\n",
       " 1.9999914180249712,\n",
       " 1.9999931344199768,\n",
       " 1.9999945075359815,\n",
       " 1.9999956060287851,\n",
       " 1.999996484823028]"
      ]
     },
     "execution_count": 22,
     "metadata": {
      "tags": []
     },
     "output_type": "execute_result"
    }
   ],
   "source": [
    "weights=gradient_descent(learning_rate=0.1)\n",
    "weights"
   ]
  },
  {
   "cell_type": "code",
   "execution_count": 24,
   "metadata": {
    "colab": {
     "base_uri": "https://localhost:8080/",
     "height": 377
    },
    "colab_type": "code",
    "executionInfo": {
     "elapsed": 1018,
     "status": "ok",
     "timestamp": 1591280027071,
     "user": {
      "displayName": "Filip Szmid",
      "photoUrl": "https://lh3.googleusercontent.com/a-/AOh14GjgOb5DpiMOc_X9zQy6rDIyMzRGFW-eHVsBiYrV=s64",
      "userId": "17667050139798954015"
     },
     "user_tz": -120
    },
    "id": "haQZSBsRqNGT",
    "outputId": "9425fede-b1e5-4612-ab37-1779e58bfd0d"
   },
   "outputs": [
    {
     "data": {
      "image/png": "[encoded data removed]",
      "text/plain": [
       "<Figure size 576x432 with 1 Axes>"
      ]
     },
     "metadata": {
      "tags": []
     },
     "output_type": "display_data"
    }
   ],
   "source": [
    "plt.figure(figsize=(8,6))\n",
    "plt.plot(w,Loss)\n",
    "for weight in weights:\n",
    "  plt.plot(weight, weight**2-4*weight,'ro')"
   ]
  }
 ],
 "metadata": {
  "colab": {
   "authorship_tag": "ABX9TyPK/rxVhNObIBK4fOYJZirX",
   "name": "DL 16 Gradient descent.ipynb",
   "provenance": []
  },
  "kernelspec": {
   "display_name": "Python 3",
   "language": "python",
   "name": "python3"
  },
  "language_info": {
   "codemirror_mode": {
    "name": "ipython",
    "version": 3
   },
   "file_extension": ".py",
   "mimetype": "text/x-python",
   "name": "python",
   "nbconvert_exporter": "python",
   "pygments_lexer": "ipython3",
   "version": "3.8.5"
  }
 },
 "nbformat": 4,
 "nbformat_minor": 1
}
