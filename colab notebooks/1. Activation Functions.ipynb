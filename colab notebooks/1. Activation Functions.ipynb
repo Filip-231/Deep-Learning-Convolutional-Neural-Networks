{
 "cells": [
  {
   "cell_type": "markdown",
   "metadata": {
    "colab_type": "text",
    "id": "TmLQWoCOMQbQ"
   },
   "source": [
    "## 1. Activation Functions\n",
    "### ReLU Function:\n",
    "$$f(x)=max(x,o)$$\n"
   ]
  },
  {
   "cell_type": "code",
   "execution_count": 2,
   "metadata": {
    "colab": {
     "base_uri": "https://localhost:8080/",
     "height": 70
    },
    "colab_type": "code",
    "executionInfo": {
     "elapsed": 1856,
     "status": "ok",
     "timestamp": 1591274559144,
     "user": {
      "displayName": "Filip Szmid",
      "photoUrl": "https://lh3.googleusercontent.com/a-/AOh14GjgOb5DpiMOc_X9zQy6rDIyMzRGFW-eHVsBiYrV=s64",
      "userId": "17667050139798954015"
     },
     "user_tz": -120
    },
    "id": "yffadEkVVoNm",
    "outputId": "6c60f745-00ac-40f4-ff11-833ce6348a6c"
   },
   "outputs": [
    {
     "name": "stderr",
     "output_type": "stream",
     "text": [
      "/usr/local/lib/python3.6/dist-packages/statsmodels/tools/_testing.py:19: FutureWarning: pandas.util.testing is deprecated. Use the functions in the public API at pandas.testing instead.\n",
      "  import pandas.util.testing as tm\n"
     ]
    }
   ],
   "source": [
    "import numpy as np\n",
    "import matplotlib.pyplot as plt\n",
    "import seaborn as sns\n",
    "sns.set()\n"
   ]
  },
  {
   "cell_type": "code",
   "execution_count": 0,
   "metadata": {
    "colab": {},
    "colab_type": "code",
    "id": "mUrKdDgmWrge"
   },
   "outputs": [],
   "source": [
    "def max_relu(x):\n",
    "  return max(x,0)"
   ]
  },
  {
   "cell_type": "code",
   "execution_count": 4,
   "metadata": {
    "colab": {
     "base_uri": "https://localhost:8080/",
     "height": 101
    },
    "colab_type": "code",
    "executionInfo": {
     "elapsed": 488,
     "status": "ok",
     "timestamp": 1591274618115,
     "user": {
      "displayName": "Filip Szmid",
      "photoUrl": "https://lh3.googleusercontent.com/a-/AOh14GjgOb5DpiMOc_X9zQy6rDIyMzRGFW-eHVsBiYrV=s64",
      "userId": "17667050139798954015"
     },
     "user_tz": -120
    },
    "id": "bIyLpyVPW05m",
    "outputId": "38ebcd1d-7191-4f3e-8455-fae68e1653da"
   },
   "outputs": [
    {
     "name": "stdout",
     "output_type": "stream",
     "text": [
      "0\n",
      "0\n",
      "0\n",
      "5\n",
      "10\n"
     ]
    }
   ],
   "source": [
    "for i in [-10,-5,0,5,10]:\n",
    "  print(max_relu(i))"
   ]
  },
  {
   "cell_type": "code",
   "execution_count": 11,
   "metadata": {
    "colab": {
     "base_uri": "https://localhost:8080/",
     "height": 301
    },
    "colab_type": "code",
    "executionInfo": {
     "elapsed": 947,
     "status": "ok",
     "timestamp": 1591274766802,
     "user": {
      "displayName": "Filip Szmid",
      "photoUrl": "https://lh3.googleusercontent.com/a-/AOh14GjgOb5DpiMOc_X9zQy6rDIyMzRGFW-eHVsBiYrV=s64",
      "userId": "17667050139798954015"
     },
     "user_tz": -120
    },
    "id": "lYAgSB04W7rK",
    "outputId": "a7a8873b-0834-40f7-ff4e-c5671702ab0c"
   },
   "outputs": [
    {
     "data": {
      "text/plain": [
       "Text(0.5, 1.0, 'relu function')"
      ]
     },
     "execution_count": 11,
     "metadata": {
      "tags": []
     },
     "output_type": "execute_result"
    },
    {
     "data": {
      "image/png": "[encoded data removed]",
      "text/plain": [
       "<Figure size 432x288 with 1 Axes>"
      ]
     },
     "metadata": {
      "tags": []
     },
     "output_type": "display_data"
    }
   ],
   "source": [
    "data = np.arange(-5,5,0.1)\n",
    "max_relu_data=[max_relu(x) for x in data]\n",
    "plt.plot(data,max_relu_data)\n",
    "plt.title(\"relu function\")"
   ]
  },
  {
   "cell_type": "markdown",
   "metadata": {
    "colab_type": "text",
    "id": "Ysc-FzhOXkHa"
   },
   "source": [
    "## Sigmoid function:\n",
    "$$f(x) =\\frac{1}{1+e^{-x}}$$"
   ]
  },
  {
   "cell_type": "code",
   "execution_count": 0,
   "metadata": {
    "colab": {},
    "colab_type": "code",
    "id": "0_tyqUdQXsiS"
   },
   "outputs": [],
   "source": [
    "def sigmoid(x):\n",
    "  return 1.0 / (1.0+np.exp(-x))"
   ]
  },
  {
   "cell_type": "code",
   "execution_count": 13,
   "metadata": {
    "colab": {
     "base_uri": "https://localhost:8080/",
     "height": 134
    },
    "colab_type": "code",
    "executionInfo": {
     "elapsed": 637,
     "status": "ok",
     "timestamp": 1591274934371,
     "user": {
      "displayName": "Filip Szmid",
      "photoUrl": "https://lh3.googleusercontent.com/a-/AOh14GjgOb5DpiMOc_X9zQy6rDIyMzRGFW-eHVsBiYrV=s64",
      "userId": "17667050139798954015"
     },
     "user_tz": -120
    },
    "id": "IxKClOobX_bQ",
    "outputId": "6e446a76-3056-444e-ebd9-d2ac415f7fdc"
   },
   "outputs": [
    {
     "name": "stdout",
     "output_type": "stream",
     "text": [
      "0.0066928509242848554\n",
      "0.04742587317756678\n",
      "0.2689414213699951\n",
      "0.5\n",
      "0.7310585786300049\n",
      "0.9525741268224334\n",
      "0.9933071490757153\n"
     ]
    }
   ],
   "source": [
    "for i in [-5,-3,-1,0,1,3,5]:\n",
    "  print(sigmoid(i))"
   ]
  },
  {
   "cell_type": "code",
   "execution_count": 18,
   "metadata": {
    "colab": {
     "base_uri": "https://localhost:8080/",
     "height": 301
    },
    "colab_type": "code",
    "executionInfo": {
     "elapsed": 832,
     "status": "ok",
     "timestamp": 1591275057411,
     "user": {
      "displayName": "Filip Szmid",
      "photoUrl": "https://lh3.googleusercontent.com/a-/AOh14GjgOb5DpiMOc_X9zQy6rDIyMzRGFW-eHVsBiYrV=s64",
      "userId": "17667050139798954015"
     },
     "user_tz": -120
    },
    "id": "YJJNkSSDYI2O",
    "outputId": "e7142e9c-6cf2-47fa-967f-e23eccbf3348"
   },
   "outputs": [
    {
     "data": {
      "text/plain": [
       "Text(0.5, 1.0, 'sigmoid function')"
      ]
     },
     "execution_count": 18,
     "metadata": {
      "tags": []
     },
     "output_type": "execute_result"
    },
    {
     "data": {
      "image/png": "[encoded data removed]",
      "text/plain": [
       "<Figure size 432x288 with 1 Axes>"
      ]
     },
     "metadata": {
      "tags": []
     },
     "output_type": "display_data"
    }
   ],
   "source": [
    "sigmoid_data=[sigmoid(x) for x in data]\n",
    "plt.plot(data,sigmoid_data)\n",
    "plt.title('sigmoid function')"
   ]
  },
  {
   "cell_type": "markdown",
   "metadata": {
    "colab_type": "text",
    "id": "A6lvODL9YsYh"
   },
   "source": [
    "## Function softmax\n",
    "$$ S(y_i)= \\frac{e^{y_i}}{\\sum_{j=1}^i e^{y_j}}$$"
   ]
  },
  {
   "cell_type": "code",
   "execution_count": 23,
   "metadata": {
    "colab": {
     "base_uri": "https://localhost:8080/",
     "height": 136
    },
    "colab_type": "code",
    "executionInfo": {
     "elapsed": 4610,
     "status": "ok",
     "timestamp": 1591275364210,
     "user": {
      "displayName": "Filip Szmid",
      "photoUrl": "https://lh3.googleusercontent.com/a-/AOh14GjgOb5DpiMOc_X9zQy6rDIyMzRGFW-eHVsBiYrV=s64",
      "userId": "17667050139798954015"
     },
     "user_tz": -120
    },
    "id": "ucCh2l-yY7r-",
    "outputId": "8d0e44bb-5b3d-4a93-d84e-5cbcc46df2d7"
   },
   "outputs": [
    {
     "data": {
      "text/html": [
       "<div>\n",
       "<style scoped>\n",
       "    .dataframe tbody tr th:only-of-type {\n",
       "        vertical-align: middle;\n",
       "    }\n",
       "\n",
       "    .dataframe tbody tr th {\n",
       "        vertical-align: top;\n",
       "    }\n",
       "\n",
       "    .dataframe thead th {\n",
       "        text-align: right;\n",
       "    }\n",
       "</style>\n",
       "<table border=\"1\" class=\"dataframe\">\n",
       "  <thead>\n",
       "    <tr style=\"text-align: right;\">\n",
       "      <th></th>\n",
       "      <th>0</th>\n",
       "      <th>1</th>\n",
       "      <th>2</th>\n",
       "      <th>3</th>\n",
       "      <th>4</th>\n",
       "    </tr>\n",
       "  </thead>\n",
       "  <tbody>\n",
       "    <tr>\n",
       "      <th>0</th>\n",
       "      <td>0.889606</td>\n",
       "      <td>0.702088</td>\n",
       "      <td>-0.200338</td>\n",
       "      <td>0.198397</td>\n",
       "      <td>1.771201</td>\n",
       "    </tr>\n",
       "    <tr>\n",
       "      <th>1</th>\n",
       "      <td>-1.528651</td>\n",
       "      <td>0.091931</td>\n",
       "      <td>0.450623</td>\n",
       "      <td>1.859415</td>\n",
       "      <td>-0.317834</td>\n",
       "    </tr>\n",
       "    <tr>\n",
       "      <th>2</th>\n",
       "      <td>-0.578840</td>\n",
       "      <td>1.405188</td>\n",
       "      <td>-0.094962</td>\n",
       "      <td>-1.092945</td>\n",
       "      <td>-1.175093</td>\n",
       "    </tr>\n",
       "  </tbody>\n",
       "</table>\n",
       "</div>"
      ],
      "text/plain": [
       "          0         1         2         3         4\n",
       "0  0.889606  0.702088 -0.200338  0.198397  1.771201\n",
       "1 -1.528651  0.091931  0.450623  1.859415 -0.317834\n",
       "2 -0.578840  1.405188 -0.094962 -1.092945 -1.175093"
      ]
     },
     "execution_count": 23,
     "metadata": {
      "tags": []
     },
     "output_type": "execute_result"
    }
   ],
   "source": [
    "data2=np.random.randn(3,5)\n",
    "data2\n",
    "import pandas as pd \n",
    "df=pd.DataFrame(data2)\n",
    "df"
   ]
  },
  {
   "cell_type": "code",
   "execution_count": 30,
   "metadata": {
    "colab": {
     "base_uri": "https://localhost:8080/",
     "height": 136
    },
    "colab_type": "code",
    "executionInfo": {
     "elapsed": 575,
     "status": "ok",
     "timestamp": 1591275744732,
     "user": {
      "displayName": "Filip Szmid",
      "photoUrl": "https://lh3.googleusercontent.com/a-/AOh14GjgOb5DpiMOc_X9zQy6rDIyMzRGFW-eHVsBiYrV=s64",
      "userId": "17667050139798954015"
     },
     "user_tz": -120
    },
    "id": "uNPbBXHgZC6a",
    "outputId": "e6e7bcf5-195a-43af-cefc-46e1d3141b35"
   },
   "outputs": [
    {
     "data": {
      "text/html": [
       "<div>\n",
       "<style scoped>\n",
       "    .dataframe tbody tr th:only-of-type {\n",
       "        vertical-align: middle;\n",
       "    }\n",
       "\n",
       "    .dataframe tbody tr th {\n",
       "        vertical-align: top;\n",
       "    }\n",
       "\n",
       "    .dataframe thead th {\n",
       "        text-align: right;\n",
       "    }\n",
       "</style>\n",
       "<table border=\"1\" class=\"dataframe\">\n",
       "  <thead>\n",
       "    <tr style=\"text-align: right;\">\n",
       "      <th></th>\n",
       "      <th>0</th>\n",
       "      <th>1</th>\n",
       "      <th>2</th>\n",
       "      <th>3</th>\n",
       "      <th>4</th>\n",
       "    </tr>\n",
       "  </thead>\n",
       "  <tbody>\n",
       "    <tr>\n",
       "      <th>0</th>\n",
       "      <td>0.757943</td>\n",
       "      <td>0.280641</td>\n",
       "      <td>0.248231</td>\n",
       "      <td>0.152915</td>\n",
       "      <td>0.850094</td>\n",
       "    </tr>\n",
       "    <tr>\n",
       "      <th>1</th>\n",
       "      <td>0.067515</td>\n",
       "      <td>0.152463</td>\n",
       "      <td>0.475953</td>\n",
       "      <td>0.805048</td>\n",
       "      <td>0.105247</td>\n",
       "    </tr>\n",
       "    <tr>\n",
       "      <th>2</th>\n",
       "      <td>0.174541</td>\n",
       "      <td>0.566896</td>\n",
       "      <td>0.275816</td>\n",
       "      <td>0.042037</td>\n",
       "      <td>0.044659</td>\n",
       "    </tr>\n",
       "  </tbody>\n",
       "</table>\n",
       "</div>"
      ],
      "text/plain": [
       "          0         1         2         3         4\n",
       "0  0.757943  0.280641  0.248231  0.152915  0.850094\n",
       "1  0.067515  0.152463  0.475953  0.805048  0.105247\n",
       "2  0.174541  0.566896  0.275816  0.042037  0.044659"
      ]
     },
     "execution_count": 30,
     "metadata": {
      "tags": []
     },
     "output_type": "execute_result"
    }
   ],
   "source": [
    "res=np.exp(df)/np.sum(np.exp(df),axis=0)\n",
    "res \n",
    "#softmax returns biggest value of associacion to each class,\n",
    "#take max value from each row"
   ]
  },
  {
   "cell_type": "code",
   "execution_count": 29,
   "metadata": {
    "colab": {
     "base_uri": "https://localhost:8080/",
     "height": 118
    },
    "colab_type": "code",
    "executionInfo": {
     "elapsed": 6142,
     "status": "ok",
     "timestamp": 1591275702422,
     "user": {
      "displayName": "Filip Szmid",
      "photoUrl": "https://lh3.googleusercontent.com/a-/AOh14GjgOb5DpiMOc_X9zQy6rDIyMzRGFW-eHVsBiYrV=s64",
      "userId": "17667050139798954015"
     },
     "user_tz": -120
    },
    "id": "dEvJeYGPaXZw",
    "outputId": "a27d3a48-d2e2-4ea7-f15a-4fb74c9004bf"
   },
   "outputs": [
    {
     "data": {
      "text/plain": [
       "0    1.0\n",
       "1    1.0\n",
       "2    1.0\n",
       "3    1.0\n",
       "4    1.0\n",
       "dtype: float64"
      ]
     },
     "execution_count": 29,
     "metadata": {
      "tags": []
     },
     "output_type": "execute_result"
    }
   ],
   "source": [
    "np.sum(res, axis=0)#sum of probabilities"
   ]
  },
  {
   "cell_type": "markdown",
   "metadata": {
    "colab_type": "text",
    "id": "OfWe73Npbdl3"
   },
   "source": [
    "## Function hyperbolic tangent:\n",
    "\n",
    "$$\n",
    "tanh(x)\n",
    "$$\n"
   ]
  },
  {
   "cell_type": "code",
   "execution_count": 0,
   "metadata": {
    "colab": {},
    "colab_type": "code",
    "id": "x4ILncXhazpq"
   },
   "outputs": [],
   "source": [
    "def tanh(x):\n",
    "  return (np.exp(x)-np.exp(-x))/(np.exp(x)+np.exp(-x))"
   ]
  },
  {
   "cell_type": "code",
   "execution_count": 32,
   "metadata": {
    "colab": {
     "base_uri": "https://localhost:8080/",
     "height": 101
    },
    "colab_type": "code",
    "executionInfo": {
     "elapsed": 666,
     "status": "ok",
     "timestamp": 1591275875443,
     "user": {
      "displayName": "Filip Szmid",
      "photoUrl": "https://lh3.googleusercontent.com/a-/AOh14GjgOb5DpiMOc_X9zQy6rDIyMzRGFW-eHVsBiYrV=s64",
      "userId": "17667050139798954015"
     },
     "user_tz": -120
    },
    "id": "GEdGr_QBbptq",
    "outputId": "187952a8-503e-499d-c9e3-317c9fa61c21"
   },
   "outputs": [
    {
     "name": "stdout",
     "output_type": "stream",
     "text": [
      "-0.964027580075817\n",
      "-0.7615941559557649\n",
      "0.0\n",
      "0.7615941559557649\n",
      "0.964027580075817\n"
     ]
    }
   ],
   "source": [
    "for i in [-2,-1,0,1,2]:\n",
    "  print (tanh(i))"
   ]
  },
  {
   "cell_type": "code",
   "execution_count": 34,
   "metadata": {
    "colab": {
     "base_uri": "https://localhost:8080/",
     "height": 301
    },
    "colab_type": "code",
    "executionInfo": {
     "elapsed": 948,
     "status": "ok",
     "timestamp": 1591275982980,
     "user": {
      "displayName": "Filip Szmid",
      "photoUrl": "https://lh3.googleusercontent.com/a-/AOh14GjgOb5DpiMOc_X9zQy6rDIyMzRGFW-eHVsBiYrV=s64",
      "userId": "17667050139798954015"
     },
     "user_tz": -120
    },
    "id": "cNDadbMwbume",
    "outputId": "c25b3c8b-aae2-4a64-9722-8a6aaf239401"
   },
   "outputs": [
    {
     "data": {
      "text/plain": [
       "Text(0.5, 1.0, 'Tanh')"
      ]
     },
     "execution_count": 34,
     "metadata": {
      "tags": []
     },
     "output_type": "execute_result"
    },
    {
     "data": {
      "image/png": "[encoded data removed]",
      "text/plain": [
       "<Figure size 432x288 with 1 Axes>"
      ]
     },
     "metadata": {
      "tags": []
     },
     "output_type": "display_data"
    }
   ],
   "source": [
    "tanh_data=[tanh(x) for x in data]\n",
    "plt.plot(data,tanh_data)\n",
    "plt.title('Tanh')"
   ]
  }
 ],
 "metadata": {
  "colab": {
   "authorship_tag": "ABX9TyPs+RXosYoUbRbw7RKIcWbz",
   "name": "DL 7 activation func relu.ipynb",
   "provenance": []
  },
  "kernelspec": {
   "display_name": "Python 3",
   "language": "python",
   "name": "python3"
  },
  "language_info": {
   "codemirror_mode": {
    "name": "ipython",
    "version": 3
   },
   "file_extension": ".py",
   "mimetype": "text/x-python",
   "name": "python",
   "nbconvert_exporter": "python",
   "pygments_lexer": "ipython3",
   "version": "3.8.5"
  }
 },
 "nbformat": 4,
 "nbformat_minor": 1
}
