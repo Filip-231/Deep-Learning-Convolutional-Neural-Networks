{
 "cells": [
  {
   "cell_type": "markdown",
   "metadata": {},
   "source": [
    "## 5. Convolutional neural network\n",
    "\n",
    "\n",
    "\n"
   ]
  },
  {
   "cell_type": "code",
   "execution_count": 4,
   "metadata": {
    "colab": {
     "base_uri": "https://localhost:8080/",
     "height": 34
    },
    "colab_type": "code",
    "executionInfo": {
     "elapsed": 2323,
     "status": "ok",
     "timestamp": 1591364664345,
     "user": {
      "displayName": "Filip Szmid",
      "photoUrl": "https://lh3.googleusercontent.com/a-/AOh14GjgOb5DpiMOc_X9zQy6rDIyMzRGFW-eHVsBiYrV=s64",
      "userId": "17667050139798954015"
     },
     "user_tz": -120
    },
    "id": "lRwlTlakm_et",
    "outputId": "2919fa1f-5958-4c0a-b8f5-992e7d06bfd9"
   },
   "outputs": [
    {
     "name": "stderr",
     "output_type": "stream",
     "text": [
      "Using TensorFlow backend.\n"
     ]
    }
   ],
   "source": [
    "import keras\n",
    "from  keras.datasets import mnist\n",
    "from keras.models import Sequential \n",
    "from keras.layers import Dense, Flatten, Conv2D, MaxPooling2D"
   ]
  },
  {
   "cell_type": "code",
   "execution_count": 5,
   "metadata": {
    "colab": {
     "base_uri": "https://localhost:8080/",
     "height": 50
    },
    "colab_type": "code",
    "executionInfo": {
     "elapsed": 4235,
     "status": "ok",
     "timestamp": 1591364667065,
     "user": {
      "displayName": "Filip Szmid",
      "photoUrl": "https://lh3.googleusercontent.com/a-/AOh14GjgOb5DpiMOc_X9zQy6rDIyMzRGFW-eHVsBiYrV=s64",
      "userId": "17667050139798954015"
     },
     "user_tz": -120
    },
    "id": "_amYkkmHnIyD",
    "outputId": "eebb3577-cfb3-4448-ee33-56c9e5bd4371"
   },
   "outputs": [
    {
     "name": "stdout",
     "output_type": "stream",
     "text": [
      "Downloading data from https://s3.amazonaws.com/img-datasets/mnist.npz\n",
      "11493376/11490434 [==============================] - 2s 0us/step\n"
     ]
    }
   ],
   "source": [
    "(x_train,y_train), (x_test,y_test)=mnist.load_data()"
   ]
  },
  {
   "cell_type": "code",
   "execution_count": 6,
   "metadata": {
    "colab": {
     "base_uri": "https://localhost:8080/",
     "height": 134
    },
    "colab_type": "code",
    "executionInfo": {
     "elapsed": 3359,
     "status": "ok",
     "timestamp": 1591364667067,
     "user": {
      "displayName": "Filip Szmid",
      "photoUrl": "https://lh3.googleusercontent.com/a-/AOh14GjgOb5DpiMOc_X9zQy6rDIyMzRGFW-eHVsBiYrV=s64",
      "userId": "17667050139798954015"
     },
     "user_tz": -120
    },
    "id": "9PK0ftZ2nAcg",
    "outputId": "6d633d9e-4f20-4f72-e8ba-91da8f815dee"
   },
   "outputs": [
    {
     "name": "stdout",
     "output_type": "stream",
     "text": [
      "(60000, 28, 28)\n",
      "(10000, 28, 28)\n",
      "(60000,)\n",
      "(10000,)\n",
      "liczba danych treningowych:  60000\n",
      "liczba danych testowych: 10000\n",
      "rozmiar pojedynczego obrazka: (28, 28)\n"
     ]
    }
   ],
   "source": [
    "print(x_train.shape)\n",
    "print(x_test.shape)\n",
    "print(y_train.shape)\n",
    "print(y_test.shape)\n",
    "\n",
    "print('liczba danych treningowych: ', x_train.shape[0])\n",
    "print('liczba danych testowych:', x_test.shape[0])\n",
    "print('rozmiar pojedynczego obrazka:',x_train[0].shape)"
   ]
  },
  {
   "cell_type": "code",
   "execution_count": 7,
   "metadata": {
    "colab": {
     "base_uri": "https://localhost:8080/",
     "height": 282
    },
    "colab_type": "code",
    "executionInfo": {
     "elapsed": 918,
     "status": "ok",
     "timestamp": 1591364668903,
     "user": {
      "displayName": "Filip Szmid",
      "photoUrl": "https://lh3.googleusercontent.com/a-/AOh14GjgOb5DpiMOc_X9zQy6rDIyMzRGFW-eHVsBiYrV=s64",
      "userId": "17667050139798954015"
     },
     "user_tz": -120
    },
    "id": "J8NxH6RpnbSw",
    "outputId": "4a52b0dd-2872-4eeb-a741-9bde5238334b"
   },
   "outputs": [
    {
     "data": {
      "text/plain": [
       "<matplotlib.image.AxesImage at 0x7f4d4363dd68>"
      ]
     },
     "execution_count": 7,
     "metadata": {
      "tags": []
     },
     "output_type": "execute_result"
    },
    {
     "data": {
      "image/png": "[encoded data removed]",
      "text/plain": [
       "<Figure size 432x288 with 1 Axes>"
      ]
     },
     "metadata": {
      "needs_background": "light",
      "tags": []
     },
     "output_type": "display_data"
    }
   ],
   "source": [
    "import matplotlib.pyplot as plt\n",
    "plt.imshow(x_train[0],cmap='Greys')"
   ]
  },
  {
   "cell_type": "code",
   "execution_count": 8,
   "metadata": {
    "colab": {
     "base_uri": "https://localhost:8080/",
     "height": 34
    },
    "colab_type": "code",
    "executionInfo": {
     "elapsed": 809,
     "status": "ok",
     "timestamp": 1591364671303,
     "user": {
      "displayName": "Filip Szmid",
      "photoUrl": "https://lh3.googleusercontent.com/a-/AOh14GjgOb5DpiMOc_X9zQy6rDIyMzRGFW-eHVsBiYrV=s64",
      "userId": "17667050139798954015"
     },
     "user_tz": -120
    },
    "id": "V-A3UWwpnhws",
    "outputId": "04e52f32-4503-4f66-bb39-6618ba2d3996"
   },
   "outputs": [
    {
     "name": "stdout",
     "output_type": "stream",
     "text": [
      "channels_last\n"
     ]
    }
   ],
   "source": [
    "print(keras.backend.image_data_format()) #jaki format zapisu"
   ]
  },
  {
   "cell_type": "code",
   "execution_count": 9,
   "metadata": {
    "colab": {
     "base_uri": "https://localhost:8080/",
     "height": 34
    },
    "colab_type": "code",
    "executionInfo": {
     "elapsed": 549,
     "status": "ok",
     "timestamp": 1591364672261,
     "user": {
      "displayName": "Filip Szmid",
      "photoUrl": "https://lh3.googleusercontent.com/a-/AOh14GjgOb5DpiMOc_X9zQy6rDIyMzRGFW-eHVsBiYrV=s64",
      "userId": "17667050139798954015"
     },
     "user_tz": -120
    },
    "id": "6FP7Pb5NoFUG",
    "outputId": "bf46ee8c-e760-4da6-dd1d-2d6d5d6da2b0"
   },
   "outputs": [
    {
     "name": "stdout",
     "output_type": "stream",
     "text": [
      "(28, 28, 1)\n"
     ]
    }
   ],
   "source": [
    "img_rows, img_cols =28,28\n",
    "if keras.backend.image_data_format()=='channel first':\n",
    "  x_train=x_train.reshape(x_train.shape[0],1,img_rows,img_cols)\n",
    "  x_test=x_test.reshape(x_test.shape[0],1,img_rows,img_cols)\n",
    "  input_shape=(1,img_rows,img_cols)\n",
    "else:\n",
    "  x_train=x_train.reshape(x_train.shape[0],img_rows,img_cols,1)\n",
    "  x_test=x_test.reshape(x_test.shape[0],img_rows,img_cols,1)\n",
    "  input_shape=(img_rows,img_cols,1)\n",
    "\n",
    "print(input_shape)"
   ]
  },
  {
   "cell_type": "code",
   "execution_count": 10,
   "metadata": {
    "colab": {
     "base_uri": "https://localhost:8080/",
     "height": 50
    },
    "colab_type": "code",
    "executionInfo": {
     "elapsed": 985,
     "status": "ok",
     "timestamp": 1591364674450,
     "user": {
      "displayName": "Filip Szmid",
      "photoUrl": "https://lh3.googleusercontent.com/a-/AOh14GjgOb5DpiMOc_X9zQy6rDIyMzRGFW-eHVsBiYrV=s64",
      "userId": "17667050139798954015"
     },
     "user_tz": -120
    },
    "id": "P4j2JvdFoxeq",
    "outputId": "872baffc-9e49-41b7-9b7a-905da5f7902a"
   },
   "outputs": [
    {
     "name": "stdout",
     "output_type": "stream",
     "text": [
      "(60000, 28, 28, 1)\n",
      "(10000, 28, 28, 1)\n"
     ]
    }
   ],
   "source": [
    "x_train=x_train.astype('float32')\n",
    "x_test=x_test.astype('float32')\n",
    "x_train/=255\n",
    "x_test/=255\n",
    "\n",
    "\n",
    "print(x_train.shape)\n",
    "print(x_test.shape) #gdyby byl kolorowy to by bylo 3"
   ]
  },
  {
   "cell_type": "code",
   "execution_count": 11,
   "metadata": {
    "colab": {
     "base_uri": "https://localhost:8080/",
     "height": 34
    },
    "colab_type": "code",
    "executionInfo": {
     "elapsed": 605,
     "status": "ok",
     "timestamp": 1591364675437,
     "user": {
      "displayName": "Filip Szmid",
      "photoUrl": "https://lh3.googleusercontent.com/a-/AOh14GjgOb5DpiMOc_X9zQy6rDIyMzRGFW-eHVsBiYrV=s64",
      "userId": "17667050139798954015"
     },
     "user_tz": -120
    },
    "id": "EJ0py6q-pD91",
    "outputId": "e23eb803-15dc-48d8-e436-00e91da810d2"
   },
   "outputs": [
    {
     "data": {
      "text/plain": [
       "array([5, 0, 4, 1, 9, 2, 1, 3, 1, 4], dtype=uint8)"
      ]
     },
     "execution_count": 11,
     "metadata": {
      "tags": []
     },
     "output_type": "execute_result"
    }
   ],
   "source": [
    "y_train[0:10]"
   ]
  },
  {
   "cell_type": "code",
   "execution_count": 0,
   "metadata": {
    "colab": {},
    "colab_type": "code",
    "id": "cCof7-fLtWnV"
   },
   "outputs": [],
   "source": [
    "y_train= keras.utils.to_categorical(y_train, num_classes=10)\n",
    "y_test= keras.utils.to_categorical(y_test, num_classes=10)"
   ]
  },
  {
   "cell_type": "markdown",
   "metadata": {
    "colab_type": "text",
    "id": "uYr2Ih-OpamB"
   },
   "source": [
    "## Building the model:"
   ]
  },
  {
   "cell_type": "code",
   "execution_count": 13,
   "metadata": {
    "colab": {
     "base_uri": "https://localhost:8080/",
     "height": 357
    },
    "colab_type": "code",
    "executionInfo": {
     "elapsed": 8826,
     "status": "ok",
     "timestamp": 1591364686215,
     "user": {
      "displayName": "Filip Szmid",
      "photoUrl": "https://lh3.googleusercontent.com/a-/AOh14GjgOb5DpiMOc_X9zQy6rDIyMzRGFW-eHVsBiYrV=s64",
      "userId": "17667050139798954015"
     },
     "user_tz": -120
    },
    "id": "bz3VsxjHpb2j",
    "outputId": "990be250-39e2-4ff2-dab7-68808f45a7c8"
   },
   "outputs": [
    {
     "name": "stdout",
     "output_type": "stream",
     "text": [
      "Model: \"sequential_1\"\n",
      "_________________________________________________________________\n",
      "Layer (type)                 Output Shape              Param #   \n",
      "=================================================================\n",
      "conv2d_1 (Conv2D)            (None, 26, 26, 32)        320       \n",
      "_________________________________________________________________\n",
      "conv2d_2 (Conv2D)            (None, 24, 24, 64)        18496     \n",
      "_________________________________________________________________\n",
      "max_pooling2d_1 (MaxPooling2 (None, 12, 12, 64)        0         \n",
      "_________________________________________________________________\n",
      "flatten_1 (Flatten)          (None, 9216)              0         \n",
      "_________________________________________________________________\n",
      "dense_1 (Dense)              (None, 128)               1179776   \n",
      "_________________________________________________________________\n",
      "dense_2 (Dense)              (None, 10)                1290      \n",
      "=================================================================\n",
      "Total params: 1,199,882\n",
      "Trainable params: 1,199,882\n",
      "Non-trainable params: 0\n",
      "_________________________________________________________________\n"
     ]
    }
   ],
   "source": [
    "model =Sequential()\n",
    "#ilosc filtrow, rozmiar filtru \n",
    "model.add(Conv2D(filters=32,kernel_size=(3,3),activation='relu',input_shape=(28,28,1)))\n",
    "model.add(Conv2D(filters=64,kernel_size=(3,3),activation='relu'))\n",
    "model.add(MaxPooling2D(pool_size=(2,2))) #okno którym latamy\n",
    "model.add(Flatten())\n",
    "model.add(Dense(units=128,activation='relu'))\n",
    "model.add(Dense(units=10,activation='softmax'))\n",
    "model.summary()"
   ]
  },
  {
   "cell_type": "code",
   "execution_count": 0,
   "metadata": {
    "colab": {},
    "colab_type": "code",
    "id": "DBSOlVxJqMwG"
   },
   "outputs": [],
   "source": [
    "model.compile(optimizer='adadelta',\n",
    "              loss='categorical_crossentropy',\n",
    "              metrics=['accuracy'])"
   ]
  },
  {
   "cell_type": "markdown",
   "metadata": {
    "colab_type": "text",
    "id": "HITJJg8Osjzp"
   },
   "source": [
    "## Learning:\n"
   ]
  },
  {
   "cell_type": "code",
   "execution_count": 24,
   "metadata": {
    "colab": {
     "base_uri": "https://localhost:8080/",
     "height": 190
    },
    "colab_type": "code",
    "executionInfo": {
     "elapsed": 13196,
     "status": "ok",
     "timestamp": 1591365025566,
     "user": {
      "displayName": "Filip Szmid",
      "photoUrl": "https://lh3.googleusercontent.com/a-/AOh14GjgOb5DpiMOc_X9zQy6rDIyMzRGFW-eHVsBiYrV=s64",
      "userId": "17667050139798954015"
     },
     "user_tz": -120
    },
    "id": "3jxbXg3DrTl9",
    "outputId": "b0617acc-ae76-4aba-edc3-e78546715840"
   },
   "outputs": [
    {
     "name": "stdout",
     "output_type": "stream",
     "text": [
      "Train on 60000 samples, validate on 10000 samples\n",
      "Epoch 1/4\n",
      "60000/60000 [==============================] - 3s 53us/step - loss: 1.2031e-05 - accuracy: 1.0000 - val_loss: 0.0524 - val_accuracy: 0.9908\n",
      "Epoch 2/4\n",
      "60000/60000 [==============================] - 3s 52us/step - loss: 1.1173e-05 - accuracy: 1.0000 - val_loss: 0.0533 - val_accuracy: 0.9909\n",
      "Epoch 3/4\n",
      "60000/60000 [==============================] - 3s 53us/step - loss: 1.0429e-05 - accuracy: 1.0000 - val_loss: 0.0531 - val_accuracy: 0.9910\n",
      "Epoch 4/4\n",
      "60000/60000 [==============================] - 3s 53us/step - loss: 9.7124e-06 - accuracy: 1.0000 - val_loss: 0.0538 - val_accuracy: 0.9908\n"
     ]
    }
   ],
   "source": [
    "history=model.fit(x_train,y_train,batch_size=128,epochs=4,\n",
    "                  validation_data=(x_test,y_test))"
   ]
  },
  {
   "cell_type": "code",
   "execution_count": 0,
   "metadata": {
    "colab": {},
    "colab_type": "code",
    "id": "lkams_14snjI"
   },
   "outputs": [],
   "source": [
    "def make_accuracy_plot(history):\n",
    "    \"\"\"\n",
    "    Funkcja zwraca wykres dokładności (accuracy) modelu na zbiorze treningowym\n",
    "    i walidacyjnym.\n",
    "    \"\"\"\n",
    "    # import matplotlib.pyplot as plt\n",
    "    # import seaborn as sns\n",
    "    # sns.set()\n",
    "\n",
    "    acc, val_acc = history.history['accuracy'], history.history['val_accuracy']\n",
    "    epochs = range(1, len(acc) + 1)\n",
    "\n",
    "    plt.figure(figsize=(10, 8))\n",
    "    plt.plot(epochs, acc, label='Dokładność trenowania', marker='o')\n",
    "    plt.plot(epochs, val_acc, label='Dokładność walidacji', marker='o')\n",
    "    plt.legend()\n",
    "    plt.title('Dokładność trenowania i walidacji')\n",
    "    plt.xlabel('Epoki')\n",
    "    plt.ylabel('Dokładność')\n",
    "    plt.show()\n",
    "\n",
    "def make_loss_plot(history):\n",
    "    \"\"\"\n",
    "    Funkcja zwraca wykres straty (loss) modelu na zbiorze treningowym\n",
    "    i walidacyjnym.\n",
    "    \n",
    "    \"\"\"\n",
    "    # import matplotlib.pyplot as plt\n",
    "    # import seaborn as sns\n",
    "    # sns.set()\n",
    "    \n",
    "    loss, val_loss = history.history['loss'], history.history['val_loss']\n",
    "    epochs = range(1, len(loss) + 1)\n",
    "    \n",
    "    plt.figure(figsize=(10, 8))\n",
    "    plt.plot(epochs, loss, label='Strata trenowania', marker='o')\n",
    "    plt.plot(epochs, val_loss, label='Strata walidacji', marker='o')\n",
    "    plt.legend()\n",
    "    plt.title('Strata trenowania i walidacji')\n",
    "    plt.xlabel('Epoki')\n",
    "    plt.ylabel('Strata')\n",
    "    plt.show()\n",
    "    \n",
    "def display_augmented_images(directory, index):\n",
    "    \"\"\"\n",
    "    Funkcja zwraca wykres przykładowych obrazów uzyskanych za pomocą techniki\n",
    "    augmentacji danych.\n",
    "    \"\"\"\n",
    "    fnames = [os.path.join(directory, fname) for fname in os.listdir(directory)]\n",
    "    img_path = fnames[index]\n",
    "    img = image.load_img(img_path, target_size=(150, 150))\n",
    "\n",
    "    x = image.img_to_array(img)\n",
    "    x = x.reshape((1, ) + x.shape)\n",
    "\n",
    "    i = 1\n",
    "    plt.figure(figsize=(20, 14))\n",
    "    for batch in datagen.flow(x, batch_size=1):\n",
    "        plt.subplot(3, 4, i)\n",
    "        plt.grid(False)\n",
    "        imgplot = plt.imshow(image.array_to_img(batch[0]))\n",
    "        i += 1\n",
    "        if i % 13 == 0:\n",
    "            break"
   ]
  },
  {
   "cell_type": "code",
   "execution_count": 25,
   "metadata": {
    "colab": {
     "base_uri": "https://localhost:8080/",
     "height": 513
    },
    "colab_type": "code",
    "executionInfo": {
     "elapsed": 1005,
     "status": "ok",
     "timestamp": 1591365031552,
     "user": {
      "displayName": "Filip Szmid",
      "photoUrl": "https://lh3.googleusercontent.com/a-/AOh14GjgOb5DpiMOc_X9zQy6rDIyMzRGFW-eHVsBiYrV=s64",
      "userId": "17667050139798954015"
     },
     "user_tz": -120
    },
    "id": "PDuTCo4ztIXq",
    "outputId": "645bcf66-4938-4996-912a-8e46a859dfb6"
   },
   "outputs": [
    {
     "data": {
      "image/png": "[encoded data removed]",
      "text/plain": [
       "<Figure size 720x576 with 1 Axes>"
      ]
     },
     "metadata": {
      "needs_background": "light",
      "tags": []
     },
     "output_type": "display_data"
    }
   ],
   "source": [
    "make_accuracy_plot(history)"
   ]
  },
  {
   "cell_type": "code",
   "execution_count": 26,
   "metadata": {
    "colab": {
     "base_uri": "https://localhost:8080/",
     "height": 513
    },
    "colab_type": "code",
    "executionInfo": {
     "elapsed": 998,
     "status": "ok",
     "timestamp": 1591365038644,
     "user": {
      "displayName": "Filip Szmid",
      "photoUrl": "https://lh3.googleusercontent.com/a-/AOh14GjgOb5DpiMOc_X9zQy6rDIyMzRGFW-eHVsBiYrV=s64",
      "userId": "17667050139798954015"
     },
     "user_tz": -120
    },
    "id": "sHzLBjjSu6zM",
    "outputId": "c9f293c5-b498-4ba6-fed7-afbf111da4b3"
   },
   "outputs": [
    {
     "data": {
      "image/png": "[encoded data removed]",
      "text/plain": [
       "<Figure size 720x576 with 1 Axes>"
      ]
     },
     "metadata": {
      "needs_background": "light",
      "tags": []
     },
     "output_type": "display_data"
    }
   ],
   "source": [
    "make_loss_plot(history)"
   ]
  }
 ],
 "metadata": {
  "accelerator": "GPU",
  "colab": {
   "authorship_tag": "ABX9TyPg9+w+QCwxX9tA5xm/vunV",
   "name": "43. CNN.ipynb",
   "provenance": []
  },
  "kernelspec": {
   "display_name": "Python 3",
   "language": "python",
   "name": "python3"
  },
  "language_info": {
   "codemirror_mode": {
    "name": "ipython",
    "version": 3
   },
   "file_extension": ".py",
   "mimetype": "text/x-python",
   "name": "python",
   "nbconvert_exporter": "python",
   "pygments_lexer": "ipython3",
   "version": "3.8.5"
  }
 },
 "nbformat": 4,
 "nbformat_minor": 1
}
