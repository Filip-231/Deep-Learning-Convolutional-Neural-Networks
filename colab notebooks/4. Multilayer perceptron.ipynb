{
 "cells": [
  {
   "cell_type": "markdown",
   "metadata": {
    "colab_type": "text",
    "id": "V_AJPgJoMEb_"
   },
   "source": [
    "## 4. Multilayer perceptron"
   ]
  },
  {
   "cell_type": "code",
   "execution_count": 1,
   "metadata": {
    "colab": {
     "base_uri": "https://localhost:8080/",
     "height": 34
    },
    "colab_type": "code",
    "executionInfo": {
     "elapsed": 2958,
     "status": "ok",
     "timestamp": 1591356482492,
     "user": {
      "displayName": "Filip Szmid",
      "photoUrl": "https://lh3.googleusercontent.com/a-/AOh14GjgOb5DpiMOc_X9zQy6rDIyMzRGFW-eHVsBiYrV=s64",
      "userId": "17667050139798954015"
     },
     "user_tz": -120
    },
    "id": "phr1N70QL8vh",
    "outputId": "6b38eaa1-1432-4eca-f4ef-d86f4d8a40f4"
   },
   "outputs": [
    {
     "name": "stderr",
     "output_type": "stream",
     "text": [
      "Using TensorFlow backend.\n"
     ]
    }
   ],
   "source": [
    "import keras\n",
    "from  keras.datasets import mnist\n",
    "from keras.models import Sequential \n",
    "from keras.layers import Dense\n",
    "from keras.optimizers import RMSprop"
   ]
  },
  {
   "cell_type": "markdown",
   "metadata": {
    "colab_type": "text",
    "id": "YGQ18uUPPRS-"
   },
   "source": [
    "### Loading the data:"
   ]
  },
  {
   "cell_type": "code",
   "execution_count": 2,
   "metadata": {
    "colab": {
     "base_uri": "https://localhost:8080/",
     "height": 50
    },
    "colab_type": "code",
    "executionInfo": {
     "elapsed": 3643,
     "status": "ok",
     "timestamp": 1591356555187,
     "user": {
      "displayName": "Filip Szmid",
      "photoUrl": "https://lh3.googleusercontent.com/a-/AOh14GjgOb5DpiMOc_X9zQy6rDIyMzRGFW-eHVsBiYrV=s64",
      "userId": "17667050139798954015"
     },
     "user_tz": -120
    },
    "id": "HROf-2cVO_by",
    "outputId": "6faeba4c-a2f9-4879-f27b-74e9caec4c35"
   },
   "outputs": [
    {
     "name": "stdout",
     "output_type": "stream",
     "text": [
      "Downloading data from https://s3.amazonaws.com/img-datasets/mnist.npz\n",
      "11493376/11490434 [==============================] - 2s 0us/step\n"
     ]
    }
   ],
   "source": [
    "(x_train,y_train), (x_test,y_test)=mnist.load_data()"
   ]
  },
  {
   "cell_type": "code",
   "execution_count": 5,
   "metadata": {
    "colab": {
     "base_uri": "https://localhost:8080/",
     "height": 34
    },
    "colab_type": "code",
    "executionInfo": {
     "elapsed": 786,
     "status": "ok",
     "timestamp": 1591356598713,
     "user": {
      "displayName": "Filip Szmid",
      "photoUrl": "https://lh3.googleusercontent.com/a-/AOh14GjgOb5DpiMOc_X9zQy6rDIyMzRGFW-eHVsBiYrV=s64",
      "userId": "17667050139798954015"
     },
     "user_tz": -120
    },
    "id": "IMgwswfNOUgp",
    "outputId": "a0079c78-681a-4f64-d6f2-c35d377d8a58"
   },
   "outputs": [
    {
     "data": {
      "text/plain": [
       "(60000, 28, 28)"
      ]
     },
     "execution_count": 5,
     "metadata": {
      "tags": []
     },
     "output_type": "execute_result"
    }
   ],
   "source": [
    "x_train.shape # 6000 probek 28 na 28"
   ]
  },
  {
   "cell_type": "code",
   "execution_count": 8,
   "metadata": {
    "colab": {
     "base_uri": "https://localhost:8080/",
     "height": 101
    },
    "colab_type": "code",
    "executionInfo": {
     "elapsed": 922,
     "status": "ok",
     "timestamp": 1591356753887,
     "user": {
      "displayName": "Filip Szmid",
      "photoUrl": "https://lh3.googleusercontent.com/a-/AOh14GjgOb5DpiMOc_X9zQy6rDIyMzRGFW-eHVsBiYrV=s64",
      "userId": "17667050139798954015"
     },
     "user_tz": -120
    },
    "id": "23WWOd3HPzPN",
    "outputId": "e4e50f93-7b5b-4d32-e28e-178da09e4649"
   },
   "outputs": [
    {
     "name": "stdout",
     "output_type": "stream",
     "text": [
      "(60000,)\n",
      "(10000,)\n",
      "liczba danych treningowych:  60000\n",
      "liczba danych testowych: 10000\n",
      "rozmiar pojedynczego obrazka: (28, 28)\n"
     ]
    }
   ],
   "source": [
    "print(y_train.shape)\n",
    "print(y_test.shape)\n",
    "\n",
    "print('liczba danych treningowych: ', x_train.shape[0])\n",
    "print('liczba danych testowych:', x_test.shape[0])\n",
    "print('rozmiar pojedynczego obrazka:',x_train[0].shape)"
   ]
  },
  {
   "cell_type": "code",
   "execution_count": 15,
   "metadata": {
    "colab": {
     "base_uri": "https://localhost:8080/",
     "height": 265
    },
    "colab_type": "code",
    "executionInfo": {
     "elapsed": 1031,
     "status": "ok",
     "timestamp": 1591356895993,
     "user": {
      "displayName": "Filip Szmid",
      "photoUrl": "https://lh3.googleusercontent.com/a-/AOh14GjgOb5DpiMOc_X9zQy6rDIyMzRGFW-eHVsBiYrV=s64",
      "userId": "17667050139798954015"
     },
     "user_tz": -120
    },
    "id": "2QTmc4xHPh3W",
    "outputId": "fd973862-c2e6-4948-9d3d-cc607245f020"
   },
   "outputs": [
    {
     "data": {
      "text/plain": [
       "(-0.5, 27.5, 27.5, -0.5)"
      ]
     },
     "execution_count": 15,
     "metadata": {
      "tags": []
     },
     "output_type": "execute_result"
    },
    {
     "data": {
      "image/png": "[encoded data removed]",
      "text/plain": [
       "<Figure size 432x288 with 1 Axes>"
      ]
     },
     "metadata": {
      "needs_background": "light",
      "tags": []
     },
     "output_type": "display_data"
    }
   ],
   "source": [
    "import matplotlib.pyplot as plt\n",
    "plt.imshow(x_train[4], cmap='Greys')#pierwszy obrazek\n",
    "plt.axis('off') \n",
    "#obrazek jest 28 na 28 pixeli, bialy ekran macierz 0 , czarny 255 \n"
   ]
  },
  {
   "cell_type": "markdown",
   "metadata": {
    "colab_type": "text",
    "id": "4BIZ5UzyREYv"
   },
   "source": [
    "### Few pictures"
   ]
  },
  {
   "cell_type": "code",
   "execution_count": 16,
   "metadata": {
    "colab": {
     "base_uri": "https://localhost:8080/",
     "height": 78
    },
    "colab_type": "code",
    "executionInfo": {
     "elapsed": 893,
     "status": "ok",
     "timestamp": 1591357119601,
     "user": {
      "displayName": "Filip Szmid",
      "photoUrl": "https://lh3.googleusercontent.com/a-/AOh14GjgOb5DpiMOc_X9zQy6rDIyMzRGFW-eHVsBiYrV=s64",
      "userId": "17667050139798954015"
     },
     "user_tz": -120
    },
    "id": "lQS5D67rQkSw",
    "outputId": "1bb56532-6767-4e20-8721-39726e59349e"
   },
   "outputs": [
    {
     "data": {
      "image/png": "[encoded data removed]",
      "text/plain": [
       "<Figure size 720x720 with 10 Axes>"
      ]
     },
     "metadata": {
      "needs_background": "light",
      "tags": []
     },
     "output_type": "display_data"
    }
   ],
   "source": [
    "plt.figure(figsize=(10,10))\n",
    "for i in range(1,11):\n",
    "  plt.subplot(1,10,i)#1 wiersz 10 kolumn, po czym iterujemy\n",
    "  plt.axis('off')\n",
    "  plt.imshow(x_train[i],cmap='Greys')\n",
    "plt.show()"
   ]
  },
  {
   "cell_type": "code",
   "execution_count": 17,
   "metadata": {
    "colab": {
     "base_uri": "https://localhost:8080/",
     "height": 34
    },
    "colab_type": "code",
    "executionInfo": {
     "elapsed": 842,
     "status": "ok",
     "timestamp": 1591357348384,
     "user": {
      "displayName": "Filip Szmid",
      "photoUrl": "https://lh3.googleusercontent.com/a-/AOh14GjgOb5DpiMOc_X9zQy6rDIyMzRGFW-eHVsBiYrV=s64",
      "userId": "17667050139798954015"
     },
     "user_tz": -120
    },
    "id": "8qJLcOgqQT3P",
    "outputId": "025e84b2-d036-4d7a-9d1a-bcfbcf628852"
   },
   "outputs": [
    {
     "data": {
      "text/plain": [
       "array([5, 0, 4, ..., 5, 6, 8], dtype=uint8)"
      ]
     },
     "execution_count": 17,
     "metadata": {
      "tags": []
     },
     "output_type": "execute_result"
    }
   ],
   "source": [
    "y_train #5 to piątka"
   ]
  },
  {
   "cell_type": "markdown",
   "metadata": {
    "colab_type": "text",
    "id": "BNzRCRnuUFM1"
   },
   "source": [
    "## Preprocessing:"
   ]
  },
  {
   "cell_type": "code",
   "execution_count": 0,
   "metadata": {
    "colab": {},
    "colab_type": "code",
    "id": "-DjlwYfoQdrM"
   },
   "outputs": [],
   "source": [
    "x_train=x_train.reshape(60000,28*28)\n",
    "#x_train.shape #skalujemy na 1 wektor\n",
    "x_test=x_test.reshape(10000,28*28)\n",
    "\n",
    "x_train=x_train.astype('float32')\n",
    "x_test=x_test.astype('float32')\n",
    "\n",
    "#skalujemy dane bo sieci sobie lepiej radza\n",
    "x_train=x_train /255\n",
    "x_test=x_test /255"
   ]
  },
  {
   "cell_type": "code",
   "execution_count": 0,
   "metadata": {
    "colab": {},
    "colab_type": "code",
    "id": "X7SXc276S9H-"
   },
   "outputs": [],
   "source": [
    "y_train= keras.utils.to_categorical(y_train, num_classes=10)\n",
    "y_test= keras.utils.to_categorical(y_test, num_classes=10)"
   ]
  },
  {
   "cell_type": "code",
   "execution_count": 26,
   "metadata": {
    "colab": {
     "base_uri": "https://localhost:8080/",
     "height": 34
    },
    "colab_type": "code",
    "executionInfo": {
     "elapsed": 838,
     "status": "ok",
     "timestamp": 1591357945580,
     "user": {
      "displayName": "Filip Szmid",
      "photoUrl": "https://lh3.googleusercontent.com/a-/AOh14GjgOb5DpiMOc_X9zQy6rDIyMzRGFW-eHVsBiYrV=s64",
      "userId": "17667050139798954015"
     },
     "user_tz": -120
    },
    "id": "gmKqUmLAT_XG",
    "outputId": "cb4e2ae7-e202-44d4-8b5b-fcd461b330af"
   },
   "outputs": [
    {
     "data": {
      "text/plain": [
       "array([0., 0., 0., 0., 0., 1., 0., 0., 0., 0.], dtype=float32)"
      ]
     },
     "execution_count": 26,
     "metadata": {
      "tags": []
     },
     "output_type": "execute_result"
    }
   ],
   "source": [
    "y_train[0] # na ktorym miejscu jest nasza liczba czyli 5 na 5 miejscu"
   ]
  },
  {
   "cell_type": "markdown",
   "metadata": {
    "colab_type": "text",
    "id": "2Ncnh6osU9K1"
   },
   "source": [
    "## Building classification model:"
   ]
  },
  {
   "cell_type": "code",
   "execution_count": 33,
   "metadata": {
    "colab": {
     "base_uri": "https://localhost:8080/",
     "height": 252
    },
    "colab_type": "code",
    "executionInfo": {
     "elapsed": 1092,
     "status": "ok",
     "timestamp": 1591358472868,
     "user": {
      "displayName": "Filip Szmid",
      "photoUrl": "https://lh3.googleusercontent.com/a-/AOh14GjgOb5DpiMOc_X9zQy6rDIyMzRGFW-eHVsBiYrV=s64",
      "userId": "17667050139798954015"
     },
     "user_tz": -120
    },
    "id": "NOvK_KKiUocc",
    "outputId": "aa55f0db-93f8-478b-bb37-473765d1fa2d"
   },
   "outputs": [
    {
     "name": "stdout",
     "output_type": "stream",
     "text": [
      "Model: \"sequential_3\"\n",
      "_________________________________________________________________\n",
      "Layer (type)                 Output Shape              Param #   \n",
      "=================================================================\n",
      "dense_4 (Dense)              (None, 512)               401920    \n",
      "_________________________________________________________________\n",
      "dense_5 (Dense)              (None, 512)               262656    \n",
      "_________________________________________________________________\n",
      "dense_6 (Dense)              (None, 10)                5130      \n",
      "=================================================================\n",
      "Total params: 669,706\n",
      "Trainable params: 669,706\n",
      "Non-trainable params: 0\n",
      "_________________________________________________________________\n"
     ]
    }
   ],
   "source": [
    "model =Sequential()\n",
    "model.add(Dense(units=512,activation='relu',input_shape=(28*28,)))#wybiera sie koombinacje 2jki \n",
    "#funkcja aktywacji dzieki temu model uczy się nie liniowo\n",
    "#warstwy geste, help: model.add(Dense)\n",
    "model.add(Dense(units=512, activation='relu')) #warstwa ukryta\n",
    "model.add(Dense(units=10,activation='softmax')) #tyle neuronow ile naszych klas , warstwa wyjsciowa\n",
    "\n",
    "model.summary() #output ile bedzie probek, #param parametry do nauki 401920  "
   ]
  },
  {
   "cell_type": "code",
   "execution_count": 0,
   "metadata": {
    "colab": {},
    "colab_type": "code",
    "id": "G_bhFKnBVOzo"
   },
   "outputs": [],
   "source": [
    "model.compile(optimizer=RMSprop(),\n",
    "              loss='categorical_crossentropy',\n",
    "              metrics=['accuracy']) #kompilujemy modelik"
   ]
  },
  {
   "cell_type": "markdown",
   "metadata": {
    "colab_type": "text",
    "id": "kI6ynfCTXOJV"
   },
   "source": [
    "## Model training"
   ]
  },
  {
   "cell_type": "code",
   "execution_count": 36,
   "metadata": {
    "colab": {
     "base_uri": "https://localhost:8080/",
     "height": 726
    },
    "colab_type": "code",
    "executionInfo": {
     "elapsed": 134230,
     "status": "ok",
     "timestamp": 1591358938166,
     "user": {
      "displayName": "Filip Szmid",
      "photoUrl": "https://lh3.googleusercontent.com/a-/AOh14GjgOb5DpiMOc_X9zQy6rDIyMzRGFW-eHVsBiYrV=s64",
      "userId": "17667050139798954015"
     },
     "user_tz": -120
    },
    "id": "50x0y92oXH5h",
    "outputId": "bb46459b-200e-4cc1-c276-6dbd007e72b7"
   },
   "outputs": [
    {
     "name": "stdout",
     "output_type": "stream",
     "text": [
      "Train on 60000 samples, validate on 10000 samples\n",
      "Epoch 1/20\n",
      "60000/60000 [==============================] - 7s 117us/step - loss: 0.2234 - accuracy: 0.9293 - val_loss: 0.0970 - val_accuracy: 0.9683\n",
      "Epoch 2/20\n",
      "60000/60000 [==============================] - 7s 112us/step - loss: 0.0820 - accuracy: 0.9750 - val_loss: 0.0814 - val_accuracy: 0.9740\n",
      "Epoch 3/20\n",
      "60000/60000 [==============================] - 7s 110us/step - loss: 0.0541 - accuracy: 0.9828 - val_loss: 0.0990 - val_accuracy: 0.9709\n",
      "Epoch 4/20\n",
      "60000/60000 [==============================] - 7s 109us/step - loss: 0.0399 - accuracy: 0.9876 - val_loss: 0.0697 - val_accuracy: 0.9807\n",
      "Epoch 5/20\n",
      "60000/60000 [==============================] - 7s 112us/step - loss: 0.0310 - accuracy: 0.9907 - val_loss: 0.0785 - val_accuracy: 0.9788\n",
      "Epoch 6/20\n",
      "60000/60000 [==============================] - 7s 111us/step - loss: 0.0231 - accuracy: 0.9924 - val_loss: 0.0806 - val_accuracy: 0.9811\n",
      "Epoch 7/20\n",
      "60000/60000 [==============================] - 7s 112us/step - loss: 0.0188 - accuracy: 0.9942 - val_loss: 0.0987 - val_accuracy: 0.9791\n",
      "Epoch 8/20\n",
      "60000/60000 [==============================] - 7s 112us/step - loss: 0.0156 - accuracy: 0.9954 - val_loss: 0.1092 - val_accuracy: 0.9816\n",
      "Epoch 9/20\n",
      "60000/60000 [==============================] - 7s 111us/step - loss: 0.0137 - accuracy: 0.9960 - val_loss: 0.1016 - val_accuracy: 0.9824\n",
      "Epoch 10/20\n",
      "60000/60000 [==============================] - 7s 113us/step - loss: 0.0116 - accuracy: 0.9964 - val_loss: 0.1247 - val_accuracy: 0.9807\n",
      "Epoch 11/20\n",
      "60000/60000 [==============================] - 7s 111us/step - loss: 0.0101 - accuracy: 0.9970 - val_loss: 0.1793 - val_accuracy: 0.9749\n",
      "Epoch 12/20\n",
      "60000/60000 [==============================] - 7s 110us/step - loss: 0.0086 - accuracy: 0.9974 - val_loss: 0.1291 - val_accuracy: 0.9807\n",
      "Epoch 13/20\n",
      "60000/60000 [==============================] - 7s 110us/step - loss: 0.0093 - accuracy: 0.9976 - val_loss: 0.1531 - val_accuracy: 0.9805\n",
      "Epoch 14/20\n",
      "60000/60000 [==============================] - 7s 110us/step - loss: 0.0075 - accuracy: 0.9976 - val_loss: 0.1364 - val_accuracy: 0.9823\n",
      "Epoch 15/20\n",
      "60000/60000 [==============================] - 7s 109us/step - loss: 0.0069 - accuracy: 0.9980 - val_loss: 0.1467 - val_accuracy: 0.9813\n",
      "Epoch 16/20\n",
      "60000/60000 [==============================] - 7s 110us/step - loss: 0.0061 - accuracy: 0.9984 - val_loss: 0.1509 - val_accuracy: 0.9837\n",
      "Epoch 17/20\n",
      "60000/60000 [==============================] - 7s 110us/step - loss: 0.0063 - accuracy: 0.9983 - val_loss: 0.1640 - val_accuracy: 0.9813\n",
      "Epoch 18/20\n",
      "60000/60000 [==============================] - 7s 110us/step - loss: 0.0052 - accuracy: 0.9986 - val_loss: 0.1556 - val_accuracy: 0.9817\n",
      "Epoch 19/20\n",
      "60000/60000 [==============================] - 7s 110us/step - loss: 0.0045 - accuracy: 0.9986 - val_loss: 0.1752 - val_accuracy: 0.9815\n",
      "Epoch 20/20\n",
      "60000/60000 [==============================] - 7s 114us/step - loss: 0.0054 - accuracy: 0.9984 - val_loss: 0.1776 - val_accuracy: 0.9812\n"
     ]
    }
   ],
   "source": [
    "history= model.fit(x_train, y_train, batch_size=128, epochs=20,\n",
    "                   validation_data=(x_test,y_test)) \n",
    "#po 128 probkach przelicza sie gradient\n",
    "#epochs 20 razy zbior zostanie przetworzony przez sieć\n",
    "#validation - opcjonalnie , mozemy kontrolowac jak model zachowuje sie na danych treningowych "
   ]
  },
  {
   "cell_type": "code",
   "execution_count": 37,
   "metadata": {
    "colab": {
     "base_uri": "https://localhost:8080/",
     "height": 50
    },
    "colab_type": "code",
    "executionInfo": {
     "elapsed": 1155,
     "status": "ok",
     "timestamp": 1591359055181,
     "user": {
      "displayName": "Filip Szmid",
      "photoUrl": "https://lh3.googleusercontent.com/a-/AOh14GjgOb5DpiMOc_X9zQy6rDIyMzRGFW-eHVsBiYrV=s64",
      "userId": "17667050139798954015"
     },
     "user_tz": -120
    },
    "id": "KM962iunYE9t",
    "outputId": "04556d13-b9f5-4240-93ac-5db2e6fbdd43"
   },
   "outputs": [
    {
     "name": "stdout",
     "output_type": "stream",
     "text": [
      "10000/10000 [==============================] - 1s 65us/step\n"
     ]
    },
    {
     "data": {
      "text/plain": [
       "[0.17755315613799177, 0.9811999797821045]"
      ]
     },
     "execution_count": 37,
     "metadata": {
      "tags": []
     },
     "output_type": "execute_result"
    }
   ],
   "source": [
    "model.evaluate(x_test,y_test)"
   ]
  },
  {
   "cell_type": "code",
   "execution_count": 39,
   "metadata": {
    "colab": {
     "base_uri": "https://localhost:8080/",
     "height": 1000
    },
    "colab_type": "code",
    "executionInfo": {
     "elapsed": 830,
     "status": "ok",
     "timestamp": 1591359112767,
     "user": {
      "displayName": "Filip Szmid",
      "photoUrl": "https://lh3.googleusercontent.com/a-/AOh14GjgOb5DpiMOc_X9zQy6rDIyMzRGFW-eHVsBiYrV=s64",
      "userId": "17667050139798954015"
     },
     "user_tz": -120
    },
    "id": "1aPk3wtcZCBm",
    "outputId": "ae5bc28b-46bf-4902-fc99-7716f409825a"
   },
   "outputs": [
    {
     "data": {
      "text/plain": [
       "{'accuracy': [0.9292833,\n",
       "  0.97505,\n",
       "  0.9828167,\n",
       "  0.98755,\n",
       "  0.9907167,\n",
       "  0.9923667,\n",
       "  0.9942167,\n",
       "  0.99541664,\n",
       "  0.9959667,\n",
       "  0.9963833,\n",
       "  0.997,\n",
       "  0.99745,\n",
       "  0.9975833,\n",
       "  0.99763334,\n",
       "  0.99801666,\n",
       "  0.99836665,\n",
       "  0.9983,\n",
       "  0.9985833,\n",
       "  0.9986,\n",
       "  0.99845],\n",
       " 'loss': [0.22344567580223085,\n",
       "  0.08197045746246974,\n",
       "  0.05410521042247613,\n",
       "  0.03987307421118021,\n",
       "  0.030975376977895697,\n",
       "  0.023104158020066098,\n",
       "  0.01875639910607909,\n",
       "  0.015640988226840274,\n",
       "  0.013662214041753516,\n",
       "  0.011610230364547655,\n",
       "  0.010087989549333846,\n",
       "  0.008606649847502316,\n",
       "  0.009296136014569622,\n",
       "  0.007513309853977808,\n",
       "  0.006910895861824883,\n",
       "  0.006091820354634122,\n",
       "  0.006327445583906607,\n",
       "  0.005235553130096438,\n",
       "  0.004547920802756509,\n",
       "  0.005420623259407262],\n",
       " 'val_accuracy': [0.9682999849319458,\n",
       "  0.9739999771118164,\n",
       "  0.9708999991416931,\n",
       "  0.9807000160217285,\n",
       "  0.9787999987602234,\n",
       "  0.9811000227928162,\n",
       "  0.9790999889373779,\n",
       "  0.9815999865531921,\n",
       "  0.9824000000953674,\n",
       "  0.9807000160217285,\n",
       "  0.9749000072479248,\n",
       "  0.9807000160217285,\n",
       "  0.9804999828338623,\n",
       "  0.9822999835014343,\n",
       "  0.9812999963760376,\n",
       "  0.9836999773979187,\n",
       "  0.9812999963760376,\n",
       "  0.9817000031471252,\n",
       "  0.9815000295639038,\n",
       "  0.9811999797821045],\n",
       " 'val_loss': [0.09698166070878506,\n",
       "  0.08143052901122719,\n",
       "  0.09901440789792687,\n",
       "  0.06966777306537843,\n",
       "  0.07846982203018851,\n",
       "  0.08058134073544061,\n",
       "  0.0987444640203781,\n",
       "  0.10921018514092991,\n",
       "  0.1016076252497615,\n",
       "  0.12467307946549262,\n",
       "  0.17934469343097661,\n",
       "  0.1291345108220805,\n",
       "  0.15312452688403463,\n",
       "  0.1363916832760816,\n",
       "  0.14666733701539525,\n",
       "  0.15086638333200852,\n",
       "  0.16403416512011817,\n",
       "  0.15555464779574005,\n",
       "  0.17520292746279356,\n",
       "  0.17755315832588084]}"
      ]
     },
     "execution_count": 39,
     "metadata": {
      "tags": []
     },
     "output_type": "execute_result"
    }
   ],
   "source": [
    "history.history # wartosci dla kazdej iteracji"
   ]
  },
  {
   "cell_type": "markdown",
   "metadata": {
    "colab_type": "text",
    "id": "dwXzENgBaXQM"
   },
   "source": [
    "## Funcitons of accuration and loss\n"
   ]
  },
  {
   "cell_type": "code",
   "execution_count": 0,
   "metadata": {
    "colab": {},
    "colab_type": "code",
    "id": "NpEd_8jUZNok"
   },
   "outputs": [],
   "source": [
    "def make_accuracy_plot(history):\n",
    "    \"\"\"\n",
    "    Funkcja zwraca wykres dokładności (accuracy) modelu na zbiorze treningowym\n",
    "    i walidacyjnym.\n",
    "    \"\"\"\n",
    "    # import matplotlib.pyplot as plt\n",
    "    # import seaborn as sns\n",
    "    # sns.set()\n",
    "\n",
    "    acc, val_acc = history.history['accuracy'], history.history['val_accuracy']\n",
    "    epochs = range(1, len(acc) + 1)\n",
    "\n",
    "    plt.figure(figsize=(10, 8))\n",
    "    plt.plot(epochs, acc, label='Dokładność trenowania', marker='o')\n",
    "    plt.plot(epochs, val_acc, label='Dokładność walidacji', marker='o')\n",
    "    plt.legend()\n",
    "    plt.title('Dokładność trenowania i walidacji')\n",
    "    plt.xlabel('Epoki')\n",
    "    plt.ylabel('Dokładność')\n",
    "    plt.show()\n",
    "\n",
    "def make_loss_plot(history):\n",
    "    \"\"\"\n",
    "    Funkcja zwraca wykres straty (loss) modelu na zbiorze treningowym\n",
    "    i walidacyjnym.\n",
    "    \n",
    "    \"\"\"\n",
    "    # import matplotlib.pyplot as plt\n",
    "    # import seaborn as sns\n",
    "    # sns.set()\n",
    "    \n",
    "    loss, val_loss = history.history['loss'], history.history['val_loss']\n",
    "    epochs = range(1, len(loss) + 1)\n",
    "    \n",
    "    plt.figure(figsize=(10, 8))\n",
    "    plt.plot(epochs, loss, label='Strata trenowania', marker='o')\n",
    "    plt.plot(epochs, val_loss, label='Strata walidacji', marker='o')\n",
    "    plt.legend()\n",
    "    plt.title('Strata trenowania i walidacji')\n",
    "    plt.xlabel('Epoki')\n",
    "    plt.ylabel('Strata')\n",
    "    plt.show()\n",
    "    \n",
    "def display_augmented_images(directory, index):\n",
    "    \"\"\"\n",
    "    Funkcja zwraca wykres przykładowych obrazów uzyskanych za pomocą techniki\n",
    "    augmentacji danych.\n",
    "    \"\"\"\n",
    "    fnames = [os.path.join(directory, fname) for fname in os.listdir(directory)]\n",
    "    img_path = fnames[index]\n",
    "    img = image.load_img(img_path, target_size=(150, 150))\n",
    "\n",
    "    x = image.img_to_array(img)\n",
    "    x = x.reshape((1, ) + x.shape)\n",
    "\n",
    "    i = 1\n",
    "    plt.figure(figsize=(20, 14))\n",
    "    for batch in datagen.flow(x, batch_size=1):\n",
    "        plt.subplot(3, 4, i)\n",
    "        plt.grid(False)\n",
    "        imgplot = plt.imshow(image.array_to_img(batch[0]))\n",
    "        i += 1\n",
    "        if i % 13 == 0:\n",
    "            break"
   ]
  },
  {
   "cell_type": "code",
   "execution_count": 47,
   "metadata": {
    "colab": {
     "base_uri": "https://localhost:8080/",
     "height": 518
    },
    "colab_type": "code",
    "executionInfo": {
     "elapsed": 1227,
     "status": "ok",
     "timestamp": 1591360011318,
     "user": {
      "displayName": "Filip Szmid",
      "photoUrl": "https://lh3.googleusercontent.com/a-/AOh14GjgOb5DpiMOc_X9zQy6rDIyMzRGFW-eHVsBiYrV=s64",
      "userId": "17667050139798954015"
     },
     "user_tz": -120
    },
    "id": "BLPWxklnaV7a",
    "outputId": "66e507d2-dab5-4620-f1d2-092c85a05219"
   },
   "outputs": [
    {
     "data": {
      "image/png": "[encoded data removed]",
      "text/plain": [
       "<Figure size 720x576 with 1 Axes>"
      ]
     },
     "metadata": {
      "tags": []
     },
     "output_type": "display_data"
    }
   ],
   "source": [
    "make_accuracy_plot(history)"
   ]
  },
  {
   "cell_type": "code",
   "execution_count": 48,
   "metadata": {
    "colab": {
     "base_uri": "https://localhost:8080/",
     "height": 518
    },
    "colab_type": "code",
    "executionInfo": {
     "elapsed": 1933,
     "status": "ok",
     "timestamp": 1591360166508,
     "user": {
      "displayName": "Filip Szmid",
      "photoUrl": "https://lh3.googleusercontent.com/a-/AOh14GjgOb5DpiMOc_X9zQy6rDIyMzRGFW-eHVsBiYrV=s64",
      "userId": "17667050139798954015"
     },
     "user_tz": -120
    },
    "id": "YTVREX_va9Vu",
    "outputId": "aea171bc-0283-4781-ee43-748efe0aef3f"
   },
   "outputs": [
    {
     "data": {
      "image/png": "[encoded data removed]",
      "text/plain": [
       "<Figure size 720x576 with 1 Axes>"
      ]
     },
     "metadata": {
      "tags": []
     },
     "output_type": "display_data"
    }
   ],
   "source": [
    "make_loss_plot(history)"
   ]
  },
  {
   "cell_type": "markdown",
   "metadata": {
    "colab_type": "text",
    "id": "Ry20YqZ9dYeJ"
   },
   "source": [
    "## We should stop learning in epoch number 6. (overfitting)"
   ]
  }
 ],
 "metadata": {
  "colab": {
   "authorship_tag": "ABX9TyMj4MOfVIx8jmbH4L4LczXA",
   "collapsed_sections": [],
   "name": "31. perceptor wiwelowarstwowy.ipynb",
   "provenance": []
  },
  "kernelspec": {
   "display_name": "Python 3",
   "language": "python",
   "name": "python3"
  },
  "language_info": {
   "codemirror_mode": {
    "name": "ipython",
    "version": 3
   },
   "file_extension": ".py",
   "mimetype": "text/x-python",
   "name": "python",
   "nbconvert_exporter": "python",
   "pygments_lexer": "ipython3",
   "version": "3.8.5"
  }
 },
 "nbformat": 4,
 "nbformat_minor": 1
}
