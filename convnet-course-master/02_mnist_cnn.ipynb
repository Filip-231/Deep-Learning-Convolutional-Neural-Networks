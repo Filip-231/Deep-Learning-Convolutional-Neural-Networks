{
  "nbformat": 4,
  "nbformat_minor": 0,
  "metadata": {
    "colab": {
      "name": "02_mnist_cnn.ipynb",
      "provenance": [],
      "include_colab_link": true
    },
    "kernelspec": {
      "name": "python3",
      "display_name": "Python 3"
    },
    "accelerator": "GPU"
  },
  "cells": [
    {
      "cell_type": "markdown",
      "metadata": {
        "id": "view-in-github",
        "colab_type": "text"
      },
      "source": [
        "<a href=\"https://colab.research.google.com/github/krakowiakpawel9/convnet-course/blob/master/02_mnist_cnn.ipynb\" target=\"_parent\"><img src=\"https://colab.research.google.com/assets/colab-badge.svg\" alt=\"Open In Colab\"/></a>"
      ]
    },
    {
      "cell_type": "markdown",
      "metadata": {
        "id": "9MGZ2-79f-4U",
        "colab_type": "text"
      },
      "source": [
        "## Trenowanie prostej sieci neuronowej na zbiorze MNIST"
      ]
    },
    {
      "cell_type": "code",
      "metadata": {
        "id": "yZbN6TbnTwFJ",
        "colab_type": "code",
        "outputId": "52270eab-5b6e-418b-976f-f48bc7f55ba8",
        "colab": {
          "base_uri": "https://localhost:8080/",
          "height": 34
        }
      },
      "source": [
        "import keras\n",
        "from keras.datasets import mnist\n",
        "from keras.models import Sequential\n",
        "from keras.layers import Dense, Dropout, Flatten\n",
        "from keras.layers import Conv2D, MaxPooling2D\n",
        "from keras import backend as K\n",
        "\n",
        "import warnings\n",
        "warnings.filterwarnings('ignore')"
      ],
      "execution_count": 0,
      "outputs": [
        {
          "output_type": "stream",
          "text": [
            "Using TensorFlow backend.\n"
          ],
          "name": "stderr"
        }
      ]
    },
    {
      "cell_type": "markdown",
      "metadata": {
        "id": "ba_I5yuSmbKg",
        "colab_type": "text"
      },
      "source": [
        "### Załadowanie danych"
      ]
    },
    {
      "cell_type": "code",
      "metadata": {
        "id": "cGkYDf-8mdBB",
        "colab_type": "code",
        "colab": {}
      },
      "source": [
        "# zdefiniowanie wymiarów obrazu wejsciowego\n",
        "img_rows, img_cols = 28, 28\n",
        "(X_train, y_train), (X_test, y_test) = mnist.load_data()"
      ],
      "execution_count": 0,
      "outputs": []
    },
    {
      "cell_type": "markdown",
      "metadata": {
        "id": "b66X3vuAmmUh",
        "colab_type": "text"
      },
      "source": [
        "### Eksploracja danych\n"
      ]
    },
    {
      "cell_type": "code",
      "metadata": {
        "id": "YFofuu0smkRB",
        "colab_type": "code",
        "outputId": "b83c4393-3337-44f5-d385-18e78d39d345",
        "colab": {
          "base_uri": "https://localhost:8080/",
          "height": 136
        }
      },
      "source": [
        "print(X_train.shape)\n",
        "print(X_test.shape)\n",
        "print(y_train.shape)\n",
        "print(y_test.shape)\n",
        "\n",
        "print('Liczba dabych treningowych:', X_train.shape[0])\n",
        "print('Liczba danych testowych:', X_test.shape[0])\n",
        "print('Rozmiar pojedynczego obrazka:', X_train[0].shape)"
      ],
      "execution_count": 0,
      "outputs": [
        {
          "output_type": "stream",
          "text": [
            "(60000, 28, 28)\n",
            "(10000, 28, 28)\n",
            "(60000,)\n",
            "(10000,)\n",
            "Liczba dabych treningowych: 60000\n",
            "Liczba danych testowych: 10000\n",
            "Rozmiar pojedynczego obrazka: (28, 28)\n"
          ],
          "name": "stdout"
        }
      ]
    },
    {
      "cell_type": "markdown",
      "metadata": {
        "id": "NbSHNqD8npUN",
        "colab_type": "text"
      },
      "source": [
        "### Wyświetlenie obrazka"
      ]
    },
    {
      "cell_type": "code",
      "metadata": {
        "id": "RZfOsAo8m1h9",
        "colab_type": "code",
        "outputId": "e3eba2c2-7765-4429-a70b-e79db6361feb",
        "colab": {
          "base_uri": "https://localhost:8080/",
          "height": 282
        }
      },
      "source": [
        "import matplotlib.pyplot as plt\n",
        "\n",
        "plt.imshow(X_train[0], cmap='Greys')\n",
        "plt.axis('off')"
      ],
      "execution_count": 0,
      "outputs": [
        {
          "output_type": "execute_result",
          "data": {
            "text/plain": [
              "(-0.5, 27.5, 27.5, -0.5)"
            ]
          },
          "metadata": {
            "tags": []
          },
          "execution_count": 12
        },
        {
          "output_type": "display_data",
          "data": {
            "image/png": "[encoded data removed]",
            "text/plain": [
              "<Figure size 432x288 with 1 Axes>"
            ]
          },
          "metadata": {
            "tags": []
          }
        }
      ]
    },
    {
      "cell_type": "markdown",
      "metadata": {
        "id": "JpvLUvuwntWT",
        "colab_type": "text"
      },
      "source": [
        "### Wyświetlenie kilku obrazków"
      ]
    },
    {
      "cell_type": "code",
      "metadata": {
        "id": "O5uERc6mn18k",
        "colab_type": "code",
        "colab": {}
      },
      "source": [
        "plt.figure(figsize=(13, 13))\n",
        "for i in range(1, 11):\n",
        "    plt.subplot(1, 10, i)\n",
        "    plt.axis('off')\n",
        "    plt.imshow(X_train[i], cmap='Greys')\n",
        "plt.show()"
      ],
      "execution_count": 0,
      "outputs": []
    },
    {
      "cell_type": "markdown",
      "metadata": {
        "id": "d2dknFA9qPBE",
        "colab_type": "text"
      },
      "source": [
        "### Wyświetlenie danych"
      ]
    },
    {
      "cell_type": "code",
      "metadata": {
        "id": "1OwhGtvqqRB8",
        "colab_type": "code",
        "colab": {}
      },
      "source": [
        "print(X_train[0][10])\n",
        "\n",
        "# dolna połówka obrazka\n",
        "plt.imshow(X_train[0][14:], cmap='Greys')"
      ],
      "execution_count": 0,
      "outputs": []
    },
    {
      "cell_type": "code",
      "metadata": {
        "id": "PU2ve3gnrWJO",
        "colab_type": "code",
        "colab": {}
      },
      "source": [
        "# górna połówka obrazka\n",
        "plt.imshow(X_train[0][:14], cmap='Greys')"
      ],
      "execution_count": 0,
      "outputs": []
    },
    {
      "cell_type": "markdown",
      "metadata": {
        "id": "fZEtF3cNrvMq",
        "colab_type": "text"
      },
      "source": [
        "### Przycinanie obrazka"
      ]
    },
    {
      "cell_type": "code",
      "metadata": {
        "id": "omD7lGzQrgav",
        "colab_type": "code",
        "colab": {}
      },
      "source": [
        "plt.imshow(X_train[0][5:20, 5:20], cmap='Greys')"
      ],
      "execution_count": 0,
      "outputs": []
    },
    {
      "cell_type": "markdown",
      "metadata": {
        "id": "J8WqdbcGA0jf",
        "colab_type": "text"
      },
      "source": [
        "### Obsługa problemu zapisu obrazów wejściowych - channel first vs. channel last"
      ]
    },
    {
      "cell_type": "code",
      "metadata": {
        "id": "BKqZ4xJ3BEUm",
        "colab_type": "code",
        "outputId": "4a5399c3-de82-4336-f1f4-dc2358454edf",
        "colab": {
          "base_uri": "https://localhost:8080/",
          "height": 51
        }
      },
      "source": [
        "print(K.image_data_format())\n",
        "\n",
        "if K.image_data_format() == 'channel_first':\n",
        "    X_train = X_train.reshape(X_train.shape[0], 1, img_rows, img_cols)\n",
        "    X_test = X_test.reshape(X_test.shape[0], 1, img_rows, img_cols)\n",
        "    input_shape = (1, img_rows, img_cols)\n",
        "else:\n",
        "    X_train = X_train.reshape(X_train.shape[0], img_rows, img_cols, 1)\n",
        "    X_test = X_test.reshape(X_test.shape[0], img_rows, img_cols, 1)\n",
        "    input_shape = (img_rows, img_cols, 1)\n",
        "    \n",
        "print(input_shape)"
      ],
      "execution_count": 0,
      "outputs": [
        {
          "output_type": "stream",
          "text": [
            "channels_last\n",
            "(28, 28, 1)\n"
          ],
          "name": "stdout"
        }
      ]
    },
    {
      "cell_type": "markdown",
      "metadata": {
        "id": "PlwXO9v4t5-f",
        "colab_type": "text"
      },
      "source": [
        "### Wyświetlenie etykiet"
      ]
    },
    {
      "cell_type": "code",
      "metadata": {
        "id": "1izcerI6t8TP",
        "colab_type": "code",
        "outputId": "d1a55bc7-9bf5-4dc6-e936-e813d3e1fc16",
        "colab": {
          "base_uri": "https://localhost:8080/",
          "height": 51
        }
      },
      "source": [
        "print('y_train:', y_train)\n",
        "print('y_train shape:', y_train.shape)"
      ],
      "execution_count": 0,
      "outputs": [
        {
          "output_type": "stream",
          "text": [
            "y_train: [5 0 4 ... 5 6 8]\n",
            "y_train shape: (60000,)\n"
          ],
          "name": "stdout"
        }
      ]
    },
    {
      "cell_type": "markdown",
      "metadata": {
        "id": "TrC0lVjMsxlw",
        "colab_type": "text"
      },
      "source": [
        "## Przygotowanie danych"
      ]
    },
    {
      "cell_type": "code",
      "metadata": {
        "id": "oIx1XUPOr48m",
        "colab_type": "code",
        "outputId": "f2e65696-169d-4b7d-e5ef-98f845443990",
        "colab": {
          "base_uri": "https://localhost:8080/",
          "height": 51
        }
      },
      "source": [
        "X_train = X_train.astype('float32')\n",
        "X_test = X_test.astype('float32')\n",
        "\n",
        "X_train /= 255\n",
        "X_test /= 255\n",
        "\n",
        "print(X_train.shape)\n",
        "print(X_test.shape)"
      ],
      "execution_count": 0,
      "outputs": [
        {
          "output_type": "stream",
          "text": [
            "(60000, 28, 28, 1)\n",
            "(10000, 28, 28, 1)\n"
          ],
          "name": "stdout"
        }
      ]
    },
    {
      "cell_type": "markdown",
      "metadata": {
        "id": "Fq0QfgbAtlgW",
        "colab_type": "text"
      },
      "source": [
        "### Przygotowanie etykiet "
      ]
    },
    {
      "cell_type": "code",
      "metadata": {
        "id": "cb_2rthUtbRe",
        "colab_type": "code",
        "outputId": "f90eda48-1ac6-4a48-c241-3e27e06c867a",
        "colab": {
          "base_uri": "https://localhost:8080/",
          "height": 51
        }
      },
      "source": [
        "y_train = keras.utils.to_categorical(y_train, num_classes=10)\n",
        "y_test = keras.utils.to_categorical(y_test, num_classes=10)\n",
        "\n",
        "print(y_train.shape)\n",
        "print(y_test.shape)"
      ],
      "execution_count": 0,
      "outputs": [
        {
          "output_type": "stream",
          "text": [
            "(60000, 10)\n",
            "(10000, 10)\n"
          ],
          "name": "stdout"
        }
      ]
    },
    {
      "cell_type": "code",
      "metadata": {
        "id": "TmuvwqEQvwuV",
        "colab_type": "code",
        "outputId": "497faca0-b376-4fa5-e38e-39edc83522da",
        "colab": {
          "base_uri": "https://localhost:8080/",
          "height": 34
        }
      },
      "source": [
        "print(y_train[0])"
      ],
      "execution_count": 0,
      "outputs": [
        {
          "output_type": "stream",
          "text": [
            "[0. 0. 0. 0. 0. 1. 0. 0. 0. 0.]\n"
          ],
          "name": "stdout"
        }
      ]
    },
    {
      "cell_type": "markdown",
      "metadata": {
        "id": "4MMqlJI_wAL-",
        "colab_type": "text"
      },
      "source": [
        "### Budowa modelu"
      ]
    },
    {
      "cell_type": "code",
      "metadata": {
        "id": "g46OQYxwv0m9",
        "colab_type": "code",
        "outputId": "cb7c782d-0df4-40af-c09f-09e52c8a20ea",
        "colab": {
          "base_uri": "https://localhost:8080/",
          "height": 408
        }
      },
      "source": [
        "model = Sequential()\n",
        "model.add(Conv2D(filters=32, kernel_size=(3, 3), activation='relu', input_shape=input_shape))\n",
        "model.add(Conv2D(filters=64, kernel_size=(3, 3), activation='relu'))\n",
        "model.add(MaxPooling2D(pool_size=(2, 2)))\n",
        "model.add(Dropout(0.25))\n",
        "model.add(Flatten())\n",
        "model.add(Dense(units=128, activation='relu'))\n",
        "model.add(Dropout(0.5))\n",
        "model.add(Dense(10, activation='softmax'))\n",
        "\n",
        "model.summary()"
      ],
      "execution_count": 0,
      "outputs": [
        {
          "output_type": "stream",
          "text": [
            "_________________________________________________________________\n",
            "Layer (type)                 Output Shape              Param #   \n",
            "=================================================================\n",
            "conv2d_7 (Conv2D)            (None, 26, 26, 32)        320       \n",
            "_________________________________________________________________\n",
            "conv2d_8 (Conv2D)            (None, 24, 24, 64)        18496     \n",
            "_________________________________________________________________\n",
            "max_pooling2d_2 (MaxPooling2 (None, 12, 12, 64)        0         \n",
            "_________________________________________________________________\n",
            "dropout_2 (Dropout)          (None, 12, 12, 64)        0         \n",
            "_________________________________________________________________\n",
            "flatten_2 (Flatten)          (None, 9216)              0         \n",
            "_________________________________________________________________\n",
            "dense_2 (Dense)              (None, 128)               1179776   \n",
            "_________________________________________________________________\n",
            "dropout_3 (Dropout)          (None, 128)               0         \n",
            "_________________________________________________________________\n",
            "dense_3 (Dense)              (None, 10)                1290      \n",
            "=================================================================\n",
            "Total params: 1,199,882\n",
            "Trainable params: 1,199,882\n",
            "Non-trainable params: 0\n",
            "_________________________________________________________________\n"
          ],
          "name": "stdout"
        }
      ]
    },
    {
      "cell_type": "markdown",
      "metadata": {
        "id": "WiDZJmbVwraU",
        "colab_type": "text"
      },
      "source": [
        "### Kompilacja modelu"
      ]
    },
    {
      "cell_type": "code",
      "metadata": {
        "id": "Gvt90hzcwfCY",
        "colab_type": "code",
        "outputId": "60c7c458-cacb-40f4-b449-ca3f991d77ac",
        "colab": {
          "base_uri": "https://localhost:8080/",
          "height": 105
        }
      },
      "source": [
        "model.compile(optimizer='adadelta',\n",
        "             loss='categorical_crossentropy',\n",
        "             metrics=['accuracy'])"
      ],
      "execution_count": 0,
      "outputs": [
        {
          "output_type": "stream",
          "text": [
            "W0711 08:08:29.919452 139693191944064 deprecation_wrapper.py:119] From /usr/local/lib/python3.6/dist-packages/keras/optimizers.py:790: The name tf.train.Optimizer is deprecated. Please use tf.compat.v1.train.Optimizer instead.\n",
            "\n",
            "W0711 08:08:29.953210 139693191944064 deprecation_wrapper.py:119] From /usr/local/lib/python3.6/dist-packages/keras/backend/tensorflow_backend.py:3295: The name tf.log is deprecated. Please use tf.math.log instead.\n",
            "\n"
          ],
          "name": "stderr"
        }
      ]
    },
    {
      "cell_type": "markdown",
      "metadata": {
        "id": "LFO70o8_xIkD",
        "colab_type": "text"
      },
      "source": [
        "### Trenowanie modelu"
      ]
    },
    {
      "cell_type": "code",
      "metadata": {
        "id": "EvdOOXdFw2vL",
        "colab_type": "code",
        "outputId": "0998cb51-e880-4837-cbd1-22113f41bc97",
        "colab": {
          "base_uri": "https://localhost:8080/",
          "height": 785
        }
      },
      "source": [
        "history = model.fit(X_train, y_train,\n",
        "                   batch_size=128,\n",
        "                   epochs=20,\n",
        "                   validation_data=(X_test, y_test))"
      ],
      "execution_count": 0,
      "outputs": [
        {
          "output_type": "stream",
          "text": [
            "W0711 08:08:33.070628 139693191944064 deprecation.py:323] From /usr/local/lib/python3.6/dist-packages/tensorflow/python/ops/math_grad.py:1250: add_dispatch_support.<locals>.wrapper (from tensorflow.python.ops.array_ops) is deprecated and will be removed in a future version.\n",
            "Instructions for updating:\n",
            "Use tf.where in 2.0, which has the same broadcast rule as np.where\n"
          ],
          "name": "stderr"
        },
        {
          "output_type": "stream",
          "text": [
            "Train on 60000 samples, validate on 10000 samples\n",
            "Epoch 1/20\n",
            "60000/60000 [==============================] - 16s 259us/step - loss: 0.2633 - acc: 0.9198 - val_loss: 0.0558 - val_acc: 0.9816\n",
            "Epoch 2/20\n",
            "60000/60000 [==============================] - 9s 153us/step - loss: 0.0888 - acc: 0.9738 - val_loss: 0.0403 - val_acc: 0.9863\n",
            "Epoch 3/20\n",
            "60000/60000 [==============================] - 9s 153us/step - loss: 0.0659 - acc: 0.9803 - val_loss: 0.0334 - val_acc: 0.9886\n",
            "Epoch 4/20\n",
            "60000/60000 [==============================] - 9s 152us/step - loss: 0.0563 - acc: 0.9833 - val_loss: 0.0318 - val_acc: 0.9897\n",
            "Epoch 5/20\n",
            "60000/60000 [==============================] - 9s 154us/step - loss: 0.0449 - acc: 0.9863 - val_loss: 0.0299 - val_acc: 0.9900\n",
            "Epoch 6/20\n",
            "60000/60000 [==============================] - 9s 154us/step - loss: 0.0416 - acc: 0.9876 - val_loss: 0.0289 - val_acc: 0.9902\n",
            "Epoch 7/20\n",
            "60000/60000 [==============================] - 9s 154us/step - loss: 0.0387 - acc: 0.9884 - val_loss: 0.0286 - val_acc: 0.9908\n",
            "Epoch 8/20\n",
            "60000/60000 [==============================] - 9s 154us/step - loss: 0.0352 - acc: 0.9894 - val_loss: 0.0248 - val_acc: 0.9921\n",
            "Epoch 9/20\n",
            "60000/60000 [==============================] - 9s 155us/step - loss: 0.0333 - acc: 0.9901 - val_loss: 0.0258 - val_acc: 0.9912\n",
            "Epoch 10/20\n",
            "60000/60000 [==============================] - 9s 154us/step - loss: 0.0305 - acc: 0.9897 - val_loss: 0.0301 - val_acc: 0.9908\n",
            "Epoch 11/20\n",
            "60000/60000 [==============================] - 9s 154us/step - loss: 0.0278 - acc: 0.9917 - val_loss: 0.0263 - val_acc: 0.9917\n",
            "Epoch 12/20\n",
            "60000/60000 [==============================] - 9s 154us/step - loss: 0.0289 - acc: 0.9911 - val_loss: 0.0321 - val_acc: 0.9904\n",
            "Epoch 13/20\n",
            "60000/60000 [==============================] - 9s 155us/step - loss: 0.0271 - acc: 0.9914 - val_loss: 0.0268 - val_acc: 0.9915\n",
            "Epoch 14/20\n",
            "60000/60000 [==============================] - 9s 157us/step - loss: 0.0254 - acc: 0.9925 - val_loss: 0.0264 - val_acc: 0.9918\n",
            "Epoch 15/20\n",
            "60000/60000 [==============================] - 9s 154us/step - loss: 0.0242 - acc: 0.9926 - val_loss: 0.0285 - val_acc: 0.9920\n",
            "Epoch 16/20\n",
            "60000/60000 [==============================] - 9s 154us/step - loss: 0.0243 - acc: 0.9923 - val_loss: 0.0274 - val_acc: 0.9918\n",
            "Epoch 17/20\n",
            "60000/60000 [==============================] - 9s 155us/step - loss: 0.0219 - acc: 0.9932 - val_loss: 0.0306 - val_acc: 0.9908\n",
            "Epoch 18/20\n",
            "60000/60000 [==============================] - 9s 153us/step - loss: 0.0220 - acc: 0.9928 - val_loss: 0.0327 - val_acc: 0.9914\n",
            "Epoch 19/20\n",
            "60000/60000 [==============================] - 9s 152us/step - loss: 0.0224 - acc: 0.9927 - val_loss: 0.0288 - val_acc: 0.9928\n",
            "Epoch 20/20\n",
            "60000/60000 [==============================] - 9s 153us/step - loss: 0.0218 - acc: 0.9936 - val_loss: 0.0304 - val_acc: 0.9911\n"
          ],
          "name": "stdout"
        }
      ]
    },
    {
      "cell_type": "markdown",
      "metadata": {
        "id": "l9bagiBAxgu1",
        "colab_type": "text"
      },
      "source": [
        "### Ocena modelu"
      ]
    },
    {
      "cell_type": "code",
      "metadata": {
        "id": "gBJfupYSxKCr",
        "colab_type": "code",
        "outputId": "fddd29b0-f753-4cdd-a513-115ca60a80e9",
        "colab": {
          "base_uri": "https://localhost:8080/",
          "height": 68
        }
      },
      "source": [
        "score = model.evaluate(X_test, y_test)\n",
        "print('Test loss:', score[0])\n",
        "print('Test accuracy:', score[1])"
      ],
      "execution_count": 0,
      "outputs": [
        {
          "output_type": "stream",
          "text": [
            "10000/10000 [==============================] - 1s 105us/step\n",
            "Test loss: 0.030402481143582055\n",
            "Test accuracy: 0.9911\n"
          ],
          "name": "stdout"
        }
      ]
    },
    {
      "cell_type": "markdown",
      "metadata": {
        "id": "eCH0lcaS1qkr",
        "colab_type": "text"
      },
      "source": [
        "### Wykres dokładności"
      ]
    },
    {
      "cell_type": "code",
      "metadata": {
        "id": "J_VTsbZ61taH",
        "colab_type": "code",
        "colab": {}
      },
      "source": [
        "def make_accuracy_plot(history):\n",
        "    \"\"\"\n",
        "    Funkcja zwraca wykres dokładności (accuracy) modelu na zbiorze treningowym\n",
        "    i walidacyjnym.\n",
        "    \"\"\"\n",
        "    import matplotlib.pyplot as plt\n",
        "    import seaborn as sns\n",
        "    sns.set()\n",
        "    acc, val_acc = history.history['acc'], history.history['val_acc']\n",
        "    epochs = range(1, len(acc) + 1)\n",
        "\n",
        "    plt.figure(figsize=(10, 8))\n",
        "    plt.plot(epochs, acc, label='Dokładność trenowania', marker='o')\n",
        "    plt.plot(epochs, val_acc, label='Dokładność walidacji', marker='o')\n",
        "    plt.legend()\n",
        "    plt.title('Dokładność trenowania i walidacji')\n",
        "    plt.xlabel('Epoki')\n",
        "    plt.ylabel('Dokładność')\n",
        "    plt.show()\n",
        "\n",
        "def make_loss_plot(history):\n",
        "    \"\"\"\n",
        "    Funkcja zwraca wykres straty (loss) modelu na zbiorze treningowym\n",
        "    i walidacyjnym.\n",
        "    \"\"\"\n",
        "    import matplotlib.pyplot as plt\n",
        "    import seaborn as sns\n",
        "    sns.set()\n",
        "    loss, val_loss = history.history['loss'], history.history['val_loss']\n",
        "    epochs = range(1, len(loss) + 1)\n",
        "    \n",
        "    plt.figure(figsize=(10, 8))\n",
        "    plt.plot(epochs, loss, label='Strata trenowania', marker='o')\n",
        "    plt.plot(epochs, val_loss, label='Strata walidacji', marker='o')\n",
        "    plt.legend()\n",
        "    plt.title('Strata trenowania i walidacji')\n",
        "    plt.xlabel('Epoki')\n",
        "    plt.ylabel('Strata')\n",
        "    plt.show()"
      ],
      "execution_count": 0,
      "outputs": []
    },
    {
      "cell_type": "code",
      "metadata": {
        "id": "Mjr7ej0-9kMj",
        "colab_type": "code",
        "outputId": "6e1833ef-1344-4620-91b7-eb83e2f2fa45",
        "colab": {
          "base_uri": "https://localhost:8080/",
          "height": 518
        }
      },
      "source": [
        "make_accuracy_plot(history)"
      ],
      "execution_count": 0,
      "outputs": [
        {
          "output_type": "display_data",
          "data": {
            "image/png": "[encoded data removed]",
            "text/plain": [
              "<Figure size 720x576 with 1 Axes>"
            ]
          },
          "metadata": {
            "tags": []
          }
        }
      ]
    },
    {
      "cell_type": "code",
      "metadata": {
        "id": "j-AkGQx-9p7z",
        "colab_type": "code",
        "outputId": "777aaa86-7b99-4336-9a3e-10a225be0d9a",
        "colab": {
          "base_uri": "https://localhost:8080/",
          "height": 518
        }
      },
      "source": [
        "make_loss_plot(history)"
      ],
      "execution_count": 0,
      "outputs": [
        {
          "output_type": "display_data",
          "data": {
            "image/png": "[encoded data removed]",
            "text/plain": [
              "<Figure size 720x576 with 1 Axes>"
            ]
          },
          "metadata": {
            "tags": []
          }
        }
      ]
    }
  ]
}