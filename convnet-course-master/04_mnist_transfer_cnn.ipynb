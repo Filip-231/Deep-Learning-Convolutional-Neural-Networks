{
  "nbformat": 4,
  "nbformat_minor": 0,
  "metadata": {
    "colab": {
      "name": "04_mnist_transfer_cnn.ipynb",
      "provenance": [],
      "include_colab_link": true
    },
    "kernelspec": {
      "name": "python3",
      "display_name": "Python 3"
    },
    "accelerator": "GPU"
  },
  "cells": [
    {
      "cell_type": "markdown",
      "metadata": {
        "id": "view-in-github",
        "colab_type": "text"
      },
      "source": [
        "<a href=\"https://colab.research.google.com/github/krakowiakpawel9/convnet-course/blob/master/04_mnist_transfer_cnn.ipynb\" target=\"_parent\"><img src=\"https://colab.research.google.com/assets/colab-badge.svg\" alt=\"Open In Colab\"/></a>"
      ]
    },
    {
      "cell_type": "markdown",
      "metadata": {
        "id": "wH4vCSvXg0ko",
        "colab_type": "text"
      },
      "source": [
        "### Transfer Learning"
      ]
    },
    {
      "cell_type": "code",
      "metadata": {
        "id": "hj28WBwGg0UP",
        "colab_type": "code",
        "outputId": "5699fc01-e4ac-40a4-f928-8e7d7ff60817",
        "colab": {
          "base_uri": "https://localhost:8080/",
          "height": 34
        }
      },
      "source": [
        "import time\n",
        "import keras\n",
        "from keras.datasets import mnist\n",
        "from keras.models import Sequential\n",
        "from keras.layers import Dense, Dropout, Flatten\n",
        "from keras.layers import Conv2D, MaxPooling2D\n",
        "from keras import backend as K"
      ],
      "execution_count": 0,
      "outputs": [
        {
          "output_type": "stream",
          "text": [
            "Using TensorFlow backend.\n"
          ],
          "name": "stderr"
        }
      ]
    },
    {
      "cell_type": "markdown",
      "metadata": {
        "id": "cURfoWsupTtP",
        "colab_type": "text"
      },
      "source": [
        "### Zdefiniowanie stałych parametrów"
      ]
    },
    {
      "cell_type": "code",
      "metadata": {
        "id": "uxNeaojMhprD",
        "colab_type": "code",
        "colab": {}
      },
      "source": [
        "batch_size = 128\n",
        "num_classes = 5\n",
        "epochs = 5\n",
        "filters=32\n",
        "kernel_size=3\n",
        "pool_size=2\n",
        "\n",
        "# rozmiar obrazu wejsciowego\n",
        "img_rows, img_cols = 28, 28"
      ],
      "execution_count": 0,
      "outputs": []
    },
    {
      "cell_type": "code",
      "metadata": {
        "id": "5C_GMNNkiSBC",
        "colab_type": "code",
        "outputId": "517a6185-0d83-400b-be80-4994565cbca9",
        "colab": {
          "base_uri": "https://localhost:8080/",
          "height": 34
        }
      },
      "source": [
        "if K.image_data_format() == 'channel_first':\n",
        "    input_shape = (1, img_rows, img_cols)\n",
        "else:\n",
        "    input_shape = (img_rows, img_cols, 1)\n",
        "print(input_shape)    "
      ],
      "execution_count": 0,
      "outputs": [
        {
          "output_type": "stream",
          "text": [
            "(28, 28, 1)\n"
          ],
          "name": "stdout"
        }
      ]
    },
    {
      "cell_type": "markdown",
      "metadata": {
        "id": "Fbi8raLnpYRG",
        "colab_type": "text"
      },
      "source": [
        "### Pobranie danych"
      ]
    },
    {
      "cell_type": "code",
      "metadata": {
        "id": "APwp-KOjjrad",
        "colab_type": "code",
        "colab": {}
      },
      "source": [
        "(train_images, train_labels), (test_images, test_labels) = mnist.load_data()"
      ],
      "execution_count": 0,
      "outputs": []
    },
    {
      "cell_type": "markdown",
      "metadata": {
        "id": "1BnsqU2kpaqX",
        "colab_type": "text"
      },
      "source": [
        "### Budowa modelu"
      ]
    },
    {
      "cell_type": "code",
      "metadata": {
        "id": "UbJ85CXAnPit",
        "colab_type": "code",
        "colab": {}
      },
      "source": [
        "def train_model(model, train, test, num_classes):\n",
        "    train_images = train[0].reshape((train[0].shape[0],) + input_shape)\n",
        "    test_images = test[0].reshape((test[0].shape[0],) + input_shape)\n",
        "    train_images = train_images.astype('float32')\n",
        "    test_images = test_images.astype('float32')\n",
        "    train_images /= 255\n",
        "    test_images /= 255\n",
        "    print('train_images shape:', train_images.shape)\n",
        "    print(train_images.shape[0], 'train samples')\n",
        "    print(test_images.shape[0], 'test samples')\n",
        "\n",
        "    # convert class vectors to binary class matrices\n",
        "    train_labels = keras.utils.to_categorical(train[1], num_classes)\n",
        "    test_labels = keras.utils.to_categorical(test[1], num_classes)\n",
        "\n",
        "    model.compile(loss='categorical_crossentropy',\n",
        "                  optimizer='adadelta',\n",
        "                  metrics=['accuracy'])\n",
        "\n",
        "    \n",
        "    model.fit(train_images, train_labels,\n",
        "              batch_size=batch_size,\n",
        "              epochs=epochs,\n",
        "              verbose=1,\n",
        "              validation_data=(test_images, test_labels))\n",
        "\n",
        "    score = model.evaluate(test_images, test_labels, verbose=0)\n",
        "    print('Test score:', score[0])\n",
        "    print('Test accuracy:', score[1])"
      ],
      "execution_count": 0,
      "outputs": []
    },
    {
      "cell_type": "markdown",
      "metadata": {
        "id": "izKfYRkDq9Wc",
        "colab_type": "text"
      },
      "source": [
        "### Tworzymy dwa zestawy danych, jeden z cyframi poniżej 5 i drugi powyżej 5"
      ]
    },
    {
      "cell_type": "code",
      "metadata": {
        "id": "9zNQjbumnj_f",
        "colab_type": "code",
        "colab": {}
      },
      "source": [
        "train_images_lt5 = train_images[train_labels < 5]\n",
        "train_labels_lt5 = train_labels[train_labels < 5]\n",
        "test_images_lt5 = test_images[test_labels < 5]\n",
        "test_labels_lt5 = test_labels[test_labels < 5]\n",
        "\n",
        "train_images_gte5 = train_images[train_labels >= 5]\n",
        "train_labels_gte5 = train_labels[train_labels >= 5] - 5\n",
        "test_images_gte5 = test_images[test_labels >= 5]\n",
        "test_labels_gte5 = test_labels[test_labels >= 5] - 5"
      ],
      "execution_count": 0,
      "outputs": []
    },
    {
      "cell_type": "markdown",
      "metadata": {
        "id": "mC8d0IjzrE71",
        "colab_type": "text"
      },
      "source": [
        "### Zdefiniowanie dwóch grup warstw: warstwa cech i warstwa klasyfikacji"
      ]
    },
    {
      "cell_type": "code",
      "metadata": {
        "id": "By-fBCTvrFGd",
        "colab_type": "code",
        "outputId": "b0d702a3-e7a8-4a97-f202-5ed859a41a7d",
        "colab": {
          "base_uri": "https://localhost:8080/",
          "height": 275
        }
      },
      "source": [
        "feature_layers = [\n",
        "    Conv2D(filters, kernel_size, padding='valid', input_shape=input_shape, activation='relu'),\n",
        "    Conv2D(filters, kernel_size, activation='relu'),\n",
        "    MaxPooling2D(pool_size=pool_size),\n",
        "    Dropout(0.25),\n",
        "    Flatten(),\n",
        "]\n",
        "\n",
        "classification_layers = [\n",
        "    Dense(128, activation='relu'),\n",
        "    Dropout(0.5),\n",
        "    Dense(num_classes, activation='softmax')\n",
        "]\n",
        "\n",
        "# skompletowanie modelu\n",
        "model = Sequential(feature_layers + classification_layers)"
      ],
      "execution_count": 0,
      "outputs": [
        {
          "output_type": "stream",
          "text": [
            "WARNING: Logging before flag parsing goes to stderr.\n",
            "W0711 11:39:29.109920 140705214871424 deprecation_wrapper.py:119] From /usr/local/lib/python3.6/dist-packages/keras/backend/tensorflow_backend.py:74: The name tf.get_default_graph is deprecated. Please use tf.compat.v1.get_default_graph instead.\n",
            "\n",
            "W0711 11:39:29.127689 140705214871424 deprecation_wrapper.py:119] From /usr/local/lib/python3.6/dist-packages/keras/backend/tensorflow_backend.py:517: The name tf.placeholder is deprecated. Please use tf.compat.v1.placeholder instead.\n",
            "\n",
            "W0711 11:39:29.130934 140705214871424 deprecation_wrapper.py:119] From /usr/local/lib/python3.6/dist-packages/keras/backend/tensorflow_backend.py:4138: The name tf.random_uniform is deprecated. Please use tf.random.uniform instead.\n",
            "\n",
            "W0711 11:39:29.165940 140705214871424 deprecation_wrapper.py:119] From /usr/local/lib/python3.6/dist-packages/keras/backend/tensorflow_backend.py:3976: The name tf.nn.max_pool is deprecated. Please use tf.nn.max_pool2d instead.\n",
            "\n",
            "W0711 11:39:29.169354 140705214871424 deprecation_wrapper.py:119] From /usr/local/lib/python3.6/dist-packages/keras/backend/tensorflow_backend.py:133: The name tf.placeholder_with_default is deprecated. Please use tf.compat.v1.placeholder_with_default instead.\n",
            "\n",
            "W0711 11:39:29.184171 140705214871424 deprecation.py:506] From /usr/local/lib/python3.6/dist-packages/keras/backend/tensorflow_backend.py:3445: calling dropout (from tensorflow.python.ops.nn_ops) with keep_prob is deprecated and will be removed in a future version.\n",
            "Instructions for updating:\n",
            "Please use `rate` instead of `keep_prob`. Rate should be set to `rate = 1 - keep_prob`.\n"
          ],
          "name": "stderr"
        }
      ]
    },
    {
      "cell_type": "markdown",
      "metadata": {
        "id": "bJd_kyzhrcwn",
        "colab_type": "text"
      },
      "source": [
        "### Trenowanie modelu klasyfikacji [0, 1, 2, 3, 4]"
      ]
    },
    {
      "cell_type": "code",
      "metadata": {
        "id": "dC3NfcGBrdTK",
        "colab_type": "code",
        "outputId": "55ef8ead-8209-4ea4-d9f3-94883167343c",
        "colab": {
          "base_uri": "https://localhost:8080/",
          "height": 428
        }
      },
      "source": [
        "train_model(model,\n",
        "            train=(train_images_lt5, train_labels_lt5),\n",
        "            test=(test_images_lt5, test_labels_lt5),\n",
        "            num_classes=num_classes)"
      ],
      "execution_count": 0,
      "outputs": [
        {
          "output_type": "stream",
          "text": [
            "W0711 11:39:47.063200 140705214871424 deprecation_wrapper.py:119] From /usr/local/lib/python3.6/dist-packages/keras/optimizers.py:790: The name tf.train.Optimizer is deprecated. Please use tf.compat.v1.train.Optimizer instead.\n",
            "\n",
            "W0711 11:39:47.084811 140705214871424 deprecation_wrapper.py:119] From /usr/local/lib/python3.6/dist-packages/keras/backend/tensorflow_backend.py:3295: The name tf.log is deprecated. Please use tf.math.log instead.\n",
            "\n",
            "W0711 11:39:47.196398 140705214871424 deprecation.py:323] From /usr/local/lib/python3.6/dist-packages/tensorflow/python/ops/math_grad.py:1250: add_dispatch_support.<locals>.wrapper (from tensorflow.python.ops.array_ops) is deprecated and will be removed in a future version.\n",
            "Instructions for updating:\n",
            "Use tf.where in 2.0, which has the same broadcast rule as np.where\n"
          ],
          "name": "stderr"
        },
        {
          "output_type": "stream",
          "text": [
            "train_images shape: (30596, 28, 28, 1)\n",
            "30596 train samples\n",
            "5139 test samples\n",
            "Train on 30596 samples, validate on 5139 samples\n",
            "Epoch 1/5\n",
            "30596/30596 [==============================] - 6s 183us/step - loss: 0.1590 - acc: 0.9483 - val_loss: 0.0289 - val_acc: 0.9907\n",
            "Epoch 2/5\n",
            "30596/30596 [==============================] - 3s 109us/step - loss: 0.0434 - acc: 0.9875 - val_loss: 0.0135 - val_acc: 0.9953\n",
            "Epoch 3/5\n",
            "30596/30596 [==============================] - 4s 116us/step - loss: 0.0297 - acc: 0.9904 - val_loss: 0.0072 - val_acc: 0.9979\n",
            "Epoch 4/5\n",
            "30596/30596 [==============================] - 4s 115us/step - loss: 0.0226 - acc: 0.9932 - val_loss: 0.0077 - val_acc: 0.9981\n",
            "Epoch 5/5\n",
            "30596/30596 [==============================] - 4s 115us/step - loss: 0.0189 - acc: 0.9937 - val_loss: 0.0057 - val_acc: 0.9982\n",
            "Test score: 0.00569881150620759\n",
            "Test accuracy: 0.9982486865148862\n"
          ],
          "name": "stdout"
        }
      ]
    },
    {
      "cell_type": "markdown",
      "metadata": {
        "id": "hVbu-KsOrjb5",
        "colab_type": "text"
      },
      "source": [
        "### Wykorzystanie transfer learning"
      ]
    },
    {
      "cell_type": "code",
      "metadata": {
        "id": "fxk2vAT8rljJ",
        "colab_type": "code",
        "outputId": "fe70e147-76bb-4faa-b21d-10d337e47f59",
        "colab": {
          "base_uri": "https://localhost:8080/",
          "height": 153
        }
      },
      "source": [
        "# zamrożenie warstwy cech i przebudowa modelu\n",
        "for l in feature_layers:\n",
        "    l.trainable = False\n",
        "\n",
        "for i in model.layers:\n",
        "    print('Warstwa trenowana:',i.trainable)"
      ],
      "execution_count": 0,
      "outputs": [
        {
          "output_type": "stream",
          "text": [
            "Warstwa trenowana: False\n",
            "Warstwa trenowana: False\n",
            "Warstwa trenowana: False\n",
            "Warstwa trenowana: False\n",
            "Warstwa trenowana: False\n",
            "Warstwa trenowana: True\n",
            "Warstwa trenowana: True\n",
            "Warstwa trenowana: True\n"
          ],
          "name": "stdout"
        }
      ]
    },
    {
      "cell_type": "markdown",
      "metadata": {
        "id": "VbgKT_Wv027V",
        "colab_type": "text"
      },
      "source": [
        "### transfer: trenowanie dla nowego zadania klasyfikacji [5, 6, 7, 8, 9]"
      ]
    },
    {
      "cell_type": "code",
      "metadata": {
        "id": "4aQLsIpm0u18",
        "colab_type": "code",
        "outputId": "12fdc73a-560d-43a3-a329-7a9e1fb2e611",
        "colab": {
          "base_uri": "https://localhost:8080/",
          "height": 309
        }
      },
      "source": [
        "train_model(model,\n",
        "            train=(train_images_gte5, train_labels_gte5),\n",
        "            test=(test_images_gte5, test_labels_gte5),\n",
        "            num_classes=num_classes)"
      ],
      "execution_count": 0,
      "outputs": [
        {
          "output_type": "stream",
          "text": [
            "train_images shape: (29404, 28, 28, 1)\n",
            "29404 train samples\n",
            "4861 test samples\n",
            "Train on 29404 samples, validate on 4861 samples\n",
            "Epoch 1/5\n",
            "29404/29404 [==============================] - 3s 88us/step - loss: 0.2367 - acc: 0.9338 - val_loss: 0.0506 - val_acc: 0.9825\n",
            "Epoch 2/5\n",
            "29404/29404 [==============================] - 2s 73us/step - loss: 0.0738 - acc: 0.9767 - val_loss: 0.0369 - val_acc: 0.9877\n",
            "Epoch 3/5\n",
            "29404/29404 [==============================] - 2s 73us/step - loss: 0.0558 - acc: 0.9831 - val_loss: 0.0276 - val_acc: 0.9901\n",
            "Epoch 4/5\n",
            "29404/29404 [==============================] - 2s 70us/step - loss: 0.0480 - acc: 0.9851 - val_loss: 0.0279 - val_acc: 0.9905\n",
            "Epoch 5/5\n",
            "29404/29404 [==============================] - 2s 70us/step - loss: 0.0433 - acc: 0.9868 - val_loss: 0.0241 - val_acc: 0.9928\n",
            "Test score: 0.024140555971219755\n",
            "Test accuracy: 0.9927998354248098\n"
          ],
          "name": "stdout"
        }
      ]
    }
  ]
}