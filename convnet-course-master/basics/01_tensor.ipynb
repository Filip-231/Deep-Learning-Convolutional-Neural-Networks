{
  "nbformat": 4,
  "nbformat_minor": 0,
  "metadata": {
    "colab": {
      "name": "Untitled30.ipynb",
      "provenance": [],
      "include_colab_link": true
    },
    "kernelspec": {
      "name": "python3",
      "display_name": "Python 3"
    },
    "accelerator": "GPU"
  },
  "cells": [
    {
      "cell_type": "markdown",
      "metadata": {
        "id": "view-in-github",
        "colab_type": "text"
      },
      "source": [
        "<a href=\"https://colab.research.google.com/github/krakowiakpawel9/convnet-course/blob/master/basics/01_tensor.ipynb\" target=\"_parent\"><img src=\"https://colab.research.google.com/assets/colab-badge.svg\" alt=\"Open In Colab\"/></a>"
      ]
    },
    {
      "cell_type": "markdown",
      "metadata": {
        "id": "DwDSCVOeUSQK",
        "colab_type": "text"
      },
      "source": [
        "* @author: krakowiakpawel9@gmail.com  \n",
        "* @site: e-smartdata.org"
      ]
    },
    {
      "cell_type": "markdown",
      "metadata": {
        "id": "CkqfVl6slWDv",
        "colab_type": "text"
      },
      "source": [
        "## Skalar, Wektor, Macierz, Tensor"
      ]
    },
    {
      "cell_type": "code",
      "metadata": {
        "id": "_WTOYPJ7lVs5",
        "colab_type": "code",
        "colab": {}
      },
      "source": [
        "import numpy as np"
      ],
      "execution_count": 0,
      "outputs": []
    },
    {
      "cell_type": "markdown",
      "metadata": {
        "id": "pLHn8AAxlg5f",
        "colab_type": "text"
      },
      "source": [
        "### Skalar "
      ]
    },
    {
      "cell_type": "code",
      "metadata": {
        "id": "9-_4-IVClfme",
        "colab_type": "code",
        "outputId": "88b0496b-76eb-4f03-d7fb-d1c2f2b034e3",
        "colab": {
          "base_uri": "https://localhost:8080/",
          "height": 34
        }
      },
      "source": [
        "scalar = 3\n",
        "print(scalar)"
      ],
      "execution_count": 0,
      "outputs": [
        {
          "output_type": "stream",
          "text": [
            "3\n"
          ],
          "name": "stdout"
        }
      ]
    },
    {
      "cell_type": "markdown",
      "metadata": {
        "id": "Qcvj78eemPGF",
        "colab_type": "text"
      },
      "source": [
        "### Wektor"
      ]
    },
    {
      "cell_type": "code",
      "metadata": {
        "id": "_qWeeuEXlgIn",
        "colab_type": "code",
        "outputId": "4c6ecea5-8364-4645-84f1-8b22895bd309",
        "colab": {
          "base_uri": "https://localhost:8080/",
          "height": 102
        }
      },
      "source": [
        "vector = np.array([2, 4, -6, 5])\n",
        "print(vector)\n",
        "print(type(vector))\n",
        "print('Rozmiar wektora:', vector.shape)\n",
        "print('Wymiar:', vector.ndim)\n",
        "print('Długość:', len(vector))"
      ],
      "execution_count": 0,
      "outputs": [
        {
          "output_type": "stream",
          "text": [
            "[ 2  4 -6  5]\n",
            "<class 'numpy.ndarray'>\n",
            "Rozmiar wektora: (4,)\n",
            "Wymiar: 1\n",
            "Długość: 4\n"
          ],
          "name": "stdout"
        }
      ]
    },
    {
      "cell_type": "markdown",
      "metadata": {
        "id": "RWoPx0u_my07",
        "colab_type": "text"
      },
      "source": [
        "### Tablica ~ Macierz"
      ]
    },
    {
      "cell_type": "code",
      "metadata": {
        "id": "DB3HvPORmZn0",
        "colab_type": "code",
        "outputId": "588bc0e0-cee3-490c-836a-62b4cb41ade7",
        "colab": {
          "base_uri": "https://localhost:8080/",
          "height": 119
        }
      },
      "source": [
        "array = np.array([[2, 6, 3],\n",
        "                 [5, -3, 4]])\n",
        "print(array)\n",
        "print(type(array))\n",
        "print('Rozmiar macierzy:', array.shape)\n",
        "print('Wymiar:', array.ndim)\n",
        "print('Długosc:', len(array))"
      ],
      "execution_count": 0,
      "outputs": [
        {
          "output_type": "stream",
          "text": [
            "[[ 2  6  3]\n",
            " [ 5 -3  4]]\n",
            "<class 'numpy.ndarray'>\n",
            "Rozmiar macierzy: (2, 3)\n",
            "Wymiar: 2\n",
            "Długosc: 2\n"
          ],
          "name": "stdout"
        }
      ]
    },
    {
      "cell_type": "markdown",
      "metadata": {
        "id": "1ytwRCbmwZJm",
        "colab_type": "text"
      },
      "source": [
        "### Tensor 3D"
      ]
    },
    {
      "cell_type": "code",
      "metadata": {
        "id": "l1fU34EZqB5P",
        "colab_type": "code",
        "outputId": "e2d3c562-f269-4c81-94b4-cde01745db20",
        "colab": {
          "base_uri": "https://localhost:8080/",
          "height": 170
        }
      },
      "source": [
        "tensor = np.array([\n",
        "    [[1, 2, 3],\n",
        "     [4, 5, 6]],\n",
        "    [[7, 8, 9],\n",
        "     [3, 7, 3]]\n",
        "])\n",
        "\n",
        "print(tensor)\n",
        "print(type(tensor))\n",
        "print('Rozmiar macierzy:', tensor.shape)\n",
        "print('Wymiar:', tensor.ndim)\n",
        "print('Długosc:', len(tensor))"
      ],
      "execution_count": 0,
      "outputs": [
        {
          "output_type": "stream",
          "text": [
            "[[[1 2 3]\n",
            "  [4 5 6]]\n",
            "\n",
            " [[7 8 9]\n",
            "  [3 7 3]]]\n",
            "<class 'numpy.ndarray'>\n",
            "Rozmiar macierzy: (2, 2, 3)\n",
            "Wymiar: 3\n",
            "Długosc: 2\n"
          ],
          "name": "stdout"
        }
      ]
    },
    {
      "cell_type": "code",
      "metadata": {
        "id": "0VeCFi0uuwcj",
        "colab_type": "code",
        "outputId": "b5b997a7-2cb0-444e-b9ec-b7b38220b9b0",
        "colab": {
          "base_uri": "https://localhost:8080/",
          "height": 221
        }
      },
      "source": [
        "tensor = np.array([\n",
        "    [[1, 2, 3],\n",
        "     [4, 5, 6]],\n",
        "    [[7, 8, 9],\n",
        "     [3, 7, 3]],\n",
        "    [[2, 3, 5],\n",
        "     [7, 2, 5]]\n",
        "])\n",
        "\n",
        "print(tensor)\n",
        "print(type(tensor))\n",
        "print('Rozmiar macierzy:', tensor.shape)\n",
        "print('Wymiar:', tensor.ndim)\n",
        "print('Długosc:', len(tensor))"
      ],
      "execution_count": 0,
      "outputs": [
        {
          "output_type": "stream",
          "text": [
            "[[[1 2 3]\n",
            "  [4 5 6]]\n",
            "\n",
            " [[7 8 9]\n",
            "  [3 7 3]]\n",
            "\n",
            " [[2 3 5]\n",
            "  [7 2 5]]]\n",
            "<class 'numpy.ndarray'>\n",
            "Rozmiar macierzy: (3, 2, 3)\n",
            "Wymiar: 3\n",
            "Długosc: 3\n"
          ],
          "name": "stdout"
        }
      ]
    },
    {
      "cell_type": "code",
      "metadata": {
        "id": "1FA_o1KXwfcO",
        "colab_type": "code",
        "outputId": "91980bf0-f14f-4589-963b-35926af4ddaf",
        "colab": {
          "base_uri": "https://localhost:8080/",
          "height": 408
        }
      },
      "source": [
        "tensor = np.array([\n",
        "    [[1, 2, 3, 4],\n",
        "     [4, 5, 6, 4],\n",
        "     [4, 2, 5, 2]],\n",
        "    [[7, 8, 9, 8],\n",
        "     [3, 7, 3, 9],\n",
        "     [5, 2, 4, 3]],\n",
        "    [[2, 3, 5, 4],\n",
        "     [7, 2, 5, 1],\n",
        "     [8, 2, 7, 2]],\n",
        "    [[2, 3, 5, 7],\n",
        "     [7, 2, 5, 9],\n",
        "     [8, 2, 7, 0]],\n",
        "    [[2, 3, 5, 7],\n",
        "     [7, 2, 5, 9],\n",
        "     [8, 2, 7, 0]]\n",
        "])\n",
        "\n",
        "print(tensor)\n",
        "print(type(tensor))\n",
        "print('Rozmiar macierzy:', tensor.shape)\n",
        "print('Wymiar:', tensor.ndim)\n",
        "print('Długosc:', len(tensor))"
      ],
      "execution_count": 0,
      "outputs": [
        {
          "output_type": "stream",
          "text": [
            "[[[1 2 3 4]\n",
            "  [4 5 6 4]\n",
            "  [4 2 5 2]]\n",
            "\n",
            " [[7 8 9 8]\n",
            "  [3 7 3 9]\n",
            "  [5 2 4 3]]\n",
            "\n",
            " [[2 3 5 4]\n",
            "  [7 2 5 1]\n",
            "  [8 2 7 2]]\n",
            "\n",
            " [[2 3 5 7]\n",
            "  [7 2 5 9]\n",
            "  [8 2 7 0]]\n",
            "\n",
            " [[2 3 5 7]\n",
            "  [7 2 5 9]\n",
            "  [8 2 7 0]]]\n",
            "<class 'numpy.ndarray'>\n",
            "Rozmiar macierzy: (5, 3, 4)\n",
            "Wymiar: 3\n",
            "Długosc: 5\n"
          ],
          "name": "stdout"
        }
      ]
    },
    {
      "cell_type": "code",
      "metadata": {
        "id": "g5-Jsx0ww6BH",
        "colab_type": "code",
        "outputId": "35d6772f-aa6d-4012-e367-a91ba27fd0fc",
        "colab": {
          "base_uri": "https://localhost:8080/",
          "height": 34
        }
      },
      "source": [
        "tensor[0].shape"
      ],
      "execution_count": 0,
      "outputs": [
        {
          "output_type": "execute_result",
          "data": {
            "text/plain": [
              "(3, 4)"
            ]
          },
          "metadata": {
            "tags": []
          },
          "execution_count": 40
        }
      ]
    }
  ]
}