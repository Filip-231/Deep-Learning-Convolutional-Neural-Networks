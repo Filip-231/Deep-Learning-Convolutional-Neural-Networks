{
  "nbformat": 4,
  "nbformat_minor": 0,
  "metadata": {
    "colab": {
      "name": "03_cifar_cnn.ipynb",
      "provenance": [],
      "include_colab_link": true
    },
    "kernelspec": {
      "name": "python3",
      "display_name": "Python 3"
    },
    "accelerator": "GPU"
  },
  "cells": [
    {
      "cell_type": "markdown",
      "metadata": {
        "id": "view-in-github",
        "colab_type": "text"
      },
      "source": [
        "<a href=\"https://colab.research.google.com/github/krakowiakpawel9/convnet-course/blob/master/03_cifar_cnn.ipynb\" target=\"_parent\"><img src=\"https://colab.research.google.com/assets/colab-badge.svg\" alt=\"Open In Colab\"/></a>"
      ]
    },
    {
      "cell_type": "markdown",
      "metadata": {
        "id": "9MGZ2-79f-4U",
        "colab_type": "text"
      },
      "source": [
        "## Trenowanie prostej sieci neuronowej na zbiorze MNIST"
      ]
    },
    {
      "cell_type": "code",
      "metadata": {
        "id": "yZbN6TbnTwFJ",
        "colab_type": "code",
        "outputId": "c356d4f8-c903-481f-ee77-806e866b8f87",
        "colab": {
          "base_uri": "https://localhost:8080/",
          "height": 34
        }
      },
      "source": [
        "import keras\n",
        "from keras.datasets import cifar10\n",
        "from keras.preprocessing.image import ImageDataGenerator\n",
        "from keras.models import Sequential\n",
        "from keras.layers import Dense, Dropout, Activation, Flatten\n",
        "from keras.layers import Conv2D, MaxPooling2D\n",
        "from keras.optimizers import rmsprop\n",
        "import os\n",
        "\n",
        "import warnings\n",
        "warnings.filterwarnings('ignore')"
      ],
      "execution_count": 0,
      "outputs": [
        {
          "output_type": "stream",
          "text": [
            "Using TensorFlow backend.\n"
          ],
          "name": "stderr"
        }
      ]
    },
    {
      "cell_type": "markdown",
      "metadata": {
        "id": "Ye9pvo9sHGPp",
        "colab_type": "text"
      },
      "source": [
        "### Zdefiniowanie kilku stałych"
      ]
    },
    {
      "cell_type": "code",
      "metadata": {
        "id": "tQCFsLyaHLQb",
        "colab_type": "code",
        "colab": {}
      },
      "source": [
        "batch_size = 32\n",
        "num_classes = 10\n",
        "epochs = 20\n",
        "data_augmentation = True\n",
        "save_dir = os.path.join(os.getcwd(), 'saved_models')\n",
        "model_name = 'keras_cifar10_trained_model.h5'\n",
        "img_rows, img_cols = 32, 32"
      ],
      "execution_count": 0,
      "outputs": []
    },
    {
      "cell_type": "markdown",
      "metadata": {
        "id": "ba_I5yuSmbKg",
        "colab_type": "text"
      },
      "source": [
        "### Załadowanie danych"
      ]
    },
    {
      "cell_type": "code",
      "metadata": {
        "id": "S22rCpCaHeLb",
        "colab_type": "code",
        "colab": {}
      },
      "source": [
        "(train_images, train_labels), (test_images, test_labels) = cifar10.load_data()"
      ],
      "execution_count": 0,
      "outputs": []
    },
    {
      "cell_type": "markdown",
      "metadata": {
        "id": "b66X3vuAmmUh",
        "colab_type": "text"
      },
      "source": [
        "### Eksploracja danych\n"
      ]
    },
    {
      "cell_type": "code",
      "metadata": {
        "id": "v5OlieicH-9e",
        "colab_type": "code",
        "outputId": "f3358c1e-afb0-46a5-a087-e22ad5b83238",
        "colab": {
          "base_uri": "https://localhost:8080/",
          "height": 136
        }
      },
      "source": [
        "print(train_images.shape)\n",
        "print(test_images.shape)\n",
        "print(train_labels.shape)\n",
        "print(test_labels.shape)\n",
        "\n",
        "print('Liczba dabych treningowych:', train_images.shape[0])\n",
        "print('Liczba danych testowych:', test_images.shape[0])\n",
        "print('Rozmiar pojedynczego obrazka:', train_images[0].shape)"
      ],
      "execution_count": 0,
      "outputs": [
        {
          "output_type": "stream",
          "text": [
            "(50000, 32, 32, 3)\n",
            "(10000, 32, 32, 3)\n",
            "(50000, 1)\n",
            "(10000, 1)\n",
            "Liczba dabych treningowych: 50000\n",
            "Liczba danych testowych: 10000\n",
            "Rozmiar pojedynczego obrazka: (32, 32, 3)\n"
          ],
          "name": "stdout"
        }
      ]
    },
    {
      "cell_type": "markdown",
      "metadata": {
        "id": "NbSHNqD8npUN",
        "colab_type": "text"
      },
      "source": [
        "### Wyświetlenie obrazka"
      ]
    },
    {
      "cell_type": "code",
      "metadata": {
        "id": "RZfOsAo8m1h9",
        "colab_type": "code",
        "outputId": "4e88d5cc-77ac-4e07-fe3f-077d4a6f1ec9",
        "colab": {
          "base_uri": "https://localhost:8080/",
          "height": 283
        }
      },
      "source": [
        "#@title Wybierz index obrazka\n",
        "import matplotlib.pyplot as plt\n",
        "\n",
        "index = 29286 #@param {'type': 'slider', min:0, max:50000 }\n",
        "plt.imshow(train_images[index])\n",
        "plt.axis('off')"
      ],
      "execution_count": 0,
      "outputs": [
        {
          "output_type": "execute_result",
          "data": {
            "text/plain": [
              "(-0.5, 31.5, 31.5, -0.5)"
            ]
          },
          "metadata": {
            "tags": []
          },
          "execution_count": 5
        },
        {
          "output_type": "display_data",
          "data": {
            "image/png": "[encoded data removed]",
            "text/plain": [
              "<Figure size 432x288 with 1 Axes>"
            ]
          },
          "metadata": {
            "tags": []
          }
        }
      ]
    },
    {
      "cell_type": "markdown",
      "metadata": {
        "id": "JpvLUvuwntWT",
        "colab_type": "text"
      },
      "source": [
        "### Wyświetlenie kilku obrazków"
      ]
    },
    {
      "cell_type": "code",
      "metadata": {
        "id": "O5uERc6mn18k",
        "colab_type": "code",
        "outputId": "98e1bb6f-60b3-4e83-f9de-50dc192a88d6",
        "colab": {
          "base_uri": "https://localhost:8080/",
          "height": 112
        }
      },
      "source": [
        "plt.figure(figsize=(13, 13))\n",
        "for i in range(1, 11):\n",
        "    plt.subplot(1, 10, i)\n",
        "    plt.axis('off')\n",
        "    plt.imshow(train_images[i])\n",
        "plt.show()"
      ],
      "execution_count": 0,
      "outputs": [
        {
          "output_type": "display_data",
          "data": {
            "image/png": "[encoded data removed]",
            "text/plain": [
              "<Figure size 936x936 with 10 Axes>"
            ]
          },
          "metadata": {
            "tags": []
          }
        }
      ]
    },
    {
      "cell_type": "markdown",
      "metadata": {
        "id": "PlwXO9v4t5-f",
        "colab_type": "text"
      },
      "source": [
        "### Wyświetlenie etykiet"
      ]
    },
    {
      "cell_type": "code",
      "metadata": {
        "id": "1izcerI6t8TP",
        "colab_type": "code",
        "outputId": "6149da57-6cba-489e-d080-334813a4c512",
        "colab": {
          "base_uri": "https://localhost:8080/",
          "height": 153
        }
      },
      "source": [
        "print('train_labels:', train_labels)\n",
        "print('train_labels shape:', train_labels.shape)"
      ],
      "execution_count": 0,
      "outputs": [
        {
          "output_type": "stream",
          "text": [
            "train_labels: [[6]\n",
            " [9]\n",
            " [9]\n",
            " ...\n",
            " [9]\n",
            " [1]\n",
            " [1]]\n",
            "train_labels shape: (50000, 1)\n"
          ],
          "name": "stdout"
        }
      ]
    },
    {
      "cell_type": "markdown",
      "metadata": {
        "id": "TrC0lVjMsxlw",
        "colab_type": "text"
      },
      "source": [
        "## Przygotowanie danych"
      ]
    },
    {
      "cell_type": "code",
      "metadata": {
        "id": "oIx1XUPOr48m",
        "colab_type": "code",
        "outputId": "dffab374-59b1-4517-b11f-73239e2cfcdf",
        "colab": {
          "base_uri": "https://localhost:8080/",
          "height": 51
        }
      },
      "source": [
        "train_images = train_images.astype('float32')\n",
        "test_images = test_images.astype('float32')\n",
        "\n",
        "train_images /= 255\n",
        "test_images /= 255\n",
        "\n",
        "print(train_images.shape)\n",
        "print(test_images.shape)"
      ],
      "execution_count": 0,
      "outputs": [
        {
          "output_type": "stream",
          "text": [
            "(50000, 32, 32, 3)\n",
            "(10000, 32, 32, 3)\n"
          ],
          "name": "stdout"
        }
      ]
    },
    {
      "cell_type": "markdown",
      "metadata": {
        "id": "Fq0QfgbAtlgW",
        "colab_type": "text"
      },
      "source": [
        "### Przygotowanie etykiet "
      ]
    },
    {
      "cell_type": "code",
      "metadata": {
        "id": "cb_2rthUtbRe",
        "colab_type": "code",
        "outputId": "681b25d2-234d-4eaf-eb6d-ce6da4a108f7",
        "colab": {
          "base_uri": "https://localhost:8080/",
          "height": 51
        }
      },
      "source": [
        "train_labels = keras.utils.to_categorical(train_labels, num_classes=num_classes)\n",
        "test_labels = keras.utils.to_categorical(test_labels, num_classes=num_classes)\n",
        "\n",
        "print(train_labels.shape)\n",
        "print(test_labels.shape)"
      ],
      "execution_count": 0,
      "outputs": [
        {
          "output_type": "stream",
          "text": [
            "(50000, 10)\n",
            "(10000, 10)\n"
          ],
          "name": "stdout"
        }
      ]
    },
    {
      "cell_type": "code",
      "metadata": {
        "id": "TmuvwqEQvwuV",
        "colab_type": "code",
        "outputId": "52028833-2f71-494a-ad77-87d5686cb557",
        "colab": {
          "base_uri": "https://localhost:8080/",
          "height": 34
        }
      },
      "source": [
        "print(train_labels[0])"
      ],
      "execution_count": 0,
      "outputs": [
        {
          "output_type": "stream",
          "text": [
            "[0. 0. 0. 0. 0. 0. 1. 0. 0. 0.]\n"
          ],
          "name": "stdout"
        }
      ]
    },
    {
      "cell_type": "markdown",
      "metadata": {
        "id": "4MMqlJI_wAL-",
        "colab_type": "text"
      },
      "source": [
        "### Budowa modelu"
      ]
    },
    {
      "cell_type": "code",
      "metadata": {
        "id": "g46OQYxwv0m9",
        "colab_type": "code",
        "outputId": "4d75b316-771b-4645-a2fb-749121aa4324",
        "colab": {
          "base_uri": "https://localhost:8080/",
          "height": 802
        }
      },
      "source": [
        "model = Sequential()\n",
        "\n",
        "model.add(Conv2D(filters=32, kernel_size=(3, 3), padding='same',\n",
        "                 input_shape=train_images.shape[1:],\n",
        "                 activation='relu'))\n",
        "model.add(Conv2D(filters=32, kernel_size=(3, 3), activation='relu'))\n",
        "model.add(MaxPooling2D(pool_size=(2, 2)))\n",
        "model.add(Dropout(0.25))\n",
        "\n",
        "model.add(Conv2D(filters=64, kernel_size=(3, 3), padding='same', activation='relu'))\n",
        "model.add(Conv2D(filters=64, kernel_size=(3, 3), activation='relu'))\n",
        "model.add(MaxPooling2D(pool_size=(2, 2)))\n",
        "model.add(Dropout(0.25))\n",
        "\n",
        "model.add(Flatten())\n",
        "model.add(Dense(units=512, activation='relu'))\n",
        "model.add(Dropout(0.5))\n",
        "model.add(Dense(units=num_classes, activation='softmax'))\n",
        "\n",
        "model.summary()"
      ],
      "execution_count": 0,
      "outputs": [
        {
          "output_type": "stream",
          "text": [
            "WARNING: Logging before flag parsing goes to stderr.\n",
            "W0711 09:18:27.967254 140093159724928 deprecation_wrapper.py:119] From /usr/local/lib/python3.6/dist-packages/keras/backend/tensorflow_backend.py:74: The name tf.get_default_graph is deprecated. Please use tf.compat.v1.get_default_graph instead.\n",
            "\n",
            "W0711 09:18:27.986134 140093159724928 deprecation_wrapper.py:119] From /usr/local/lib/python3.6/dist-packages/keras/backend/tensorflow_backend.py:517: The name tf.placeholder is deprecated. Please use tf.compat.v1.placeholder instead.\n",
            "\n",
            "W0711 09:18:27.989786 140093159724928 deprecation_wrapper.py:119] From /usr/local/lib/python3.6/dist-packages/keras/backend/tensorflow_backend.py:4138: The name tf.random_uniform is deprecated. Please use tf.random.uniform instead.\n",
            "\n",
            "W0711 09:18:28.033163 140093159724928 deprecation_wrapper.py:119] From /usr/local/lib/python3.6/dist-packages/keras/backend/tensorflow_backend.py:3976: The name tf.nn.max_pool is deprecated. Please use tf.nn.max_pool2d instead.\n",
            "\n",
            "W0711 09:18:28.036953 140093159724928 deprecation_wrapper.py:119] From /usr/local/lib/python3.6/dist-packages/keras/backend/tensorflow_backend.py:133: The name tf.placeholder_with_default is deprecated. Please use tf.compat.v1.placeholder_with_default instead.\n",
            "\n",
            "W0711 09:18:28.052816 140093159724928 deprecation.py:506] From /usr/local/lib/python3.6/dist-packages/keras/backend/tensorflow_backend.py:3445: calling dropout (from tensorflow.python.ops.nn_ops) with keep_prob is deprecated and will be removed in a future version.\n",
            "Instructions for updating:\n",
            "Please use `rate` instead of `keep_prob`. Rate should be set to `rate = 1 - keep_prob`.\n"
          ],
          "name": "stderr"
        },
        {
          "output_type": "stream",
          "text": [
            "_________________________________________________________________\n",
            "Layer (type)                 Output Shape              Param #   \n",
            "=================================================================\n",
            "conv2d_1 (Conv2D)            (None, 32, 32, 32)        896       \n",
            "_________________________________________________________________\n",
            "conv2d_2 (Conv2D)            (None, 30, 30, 32)        9248      \n",
            "_________________________________________________________________\n",
            "max_pooling2d_1 (MaxPooling2 (None, 15, 15, 32)        0         \n",
            "_________________________________________________________________\n",
            "dropout_1 (Dropout)          (None, 15, 15, 32)        0         \n",
            "_________________________________________________________________\n",
            "conv2d_3 (Conv2D)            (None, 15, 15, 64)        18496     \n",
            "_________________________________________________________________\n",
            "conv2d_4 (Conv2D)            (None, 13, 13, 64)        36928     \n",
            "_________________________________________________________________\n",
            "max_pooling2d_2 (MaxPooling2 (None, 6, 6, 64)          0         \n",
            "_________________________________________________________________\n",
            "dropout_2 (Dropout)          (None, 6, 6, 64)          0         \n",
            "_________________________________________________________________\n",
            "flatten_1 (Flatten)          (None, 2304)              0         \n",
            "_________________________________________________________________\n",
            "dense_1 (Dense)              (None, 512)               1180160   \n",
            "_________________________________________________________________\n",
            "dropout_3 (Dropout)          (None, 512)               0         \n",
            "_________________________________________________________________\n",
            "dense_2 (Dense)              (None, 10)                5130      \n",
            "=================================================================\n",
            "Total params: 1,250,858\n",
            "Trainable params: 1,250,858\n",
            "Non-trainable params: 0\n",
            "_________________________________________________________________\n"
          ],
          "name": "stdout"
        }
      ]
    },
    {
      "cell_type": "markdown",
      "metadata": {
        "id": "WiDZJmbVwraU",
        "colab_type": "text"
      },
      "source": [
        "### Kompilacja modelu"
      ]
    },
    {
      "cell_type": "code",
      "metadata": {
        "id": "Gvt90hzcwfCY",
        "colab_type": "code",
        "colab": {}
      },
      "source": [
        "model.compile(optimizer=rmsprop(lr=0.0001),\n",
        "             loss='categorical_crossentropy',\n",
        "             metrics=['accuracy'])"
      ],
      "execution_count": 0,
      "outputs": []
    },
    {
      "cell_type": "markdown",
      "metadata": {
        "id": "LFO70o8_xIkD",
        "colab_type": "text"
      },
      "source": [
        "### Trenowanie modelu"
      ]
    },
    {
      "cell_type": "code",
      "metadata": {
        "id": "EvdOOXdFw2vL",
        "colab_type": "code",
        "outputId": "0f501c8c-4118-4e85-87c8-9448e1f7fbb9",
        "colab": {
          "base_uri": "https://localhost:8080/",
          "height": 785
        }
      },
      "source": [
        "history = model.fit(train_images, train_labels,\n",
        "                   batch_size=batch_size,\n",
        "                   epochs=epochs,\n",
        "                   validation_data=(test_images, test_labels),\n",
        "                   shuffle=True)"
      ],
      "execution_count": 0,
      "outputs": [
        {
          "output_type": "stream",
          "text": [
            "W0711 09:19:11.043560 140093159724928 deprecation.py:323] From /usr/local/lib/python3.6/dist-packages/tensorflow/python/ops/math_grad.py:1250: add_dispatch_support.<locals>.wrapper (from tensorflow.python.ops.array_ops) is deprecated and will be removed in a future version.\n",
            "Instructions for updating:\n",
            "Use tf.where in 2.0, which has the same broadcast rule as np.where\n"
          ],
          "name": "stderr"
        },
        {
          "output_type": "stream",
          "text": [
            "Train on 50000 samples, validate on 10000 samples\n",
            "Epoch 1/20\n",
            "50000/50000 [==============================] - 24s 489us/step - loss: 1.8021 - acc: 0.3383 - val_loss: 1.6052 - val_acc: 0.4242\n",
            "Epoch 2/20\n",
            "50000/50000 [==============================] - 21s 422us/step - loss: 1.5058 - acc: 0.4519 - val_loss: 1.3650 - val_acc: 0.5130\n",
            "Epoch 3/20\n",
            "50000/50000 [==============================] - 21s 412us/step - loss: 1.3700 - acc: 0.5061 - val_loss: 1.2754 - val_acc: 0.5486\n",
            "Epoch 4/20\n",
            "50000/50000 [==============================] - 20s 403us/step - loss: 1.2806 - acc: 0.5427 - val_loss: 1.1655 - val_acc: 0.5846\n",
            "Epoch 5/20\n",
            "50000/50000 [==============================] - 20s 407us/step - loss: 1.1986 - acc: 0.5720 - val_loss: 1.1634 - val_acc: 0.5959\n",
            "Epoch 6/20\n",
            "50000/50000 [==============================] - 20s 407us/step - loss: 1.1325 - acc: 0.5995 - val_loss: 1.0888 - val_acc: 0.6151\n",
            "Epoch 7/20\n",
            "50000/50000 [==============================] - 20s 405us/step - loss: 1.0701 - acc: 0.6227 - val_loss: 1.0169 - val_acc: 0.6403\n",
            "Epoch 8/20\n",
            "50000/50000 [==============================] - 20s 404us/step - loss: 1.0226 - acc: 0.6401 - val_loss: 0.9935 - val_acc: 0.6462\n",
            "Epoch 9/20\n",
            "50000/50000 [==============================] - 21s 411us/step - loss: 0.9872 - acc: 0.6536 - val_loss: 0.9236 - val_acc: 0.6795\n",
            "Epoch 10/20\n",
            "50000/50000 [==============================] - 21s 412us/step - loss: 0.9482 - acc: 0.6698 - val_loss: 0.9514 - val_acc: 0.6699\n",
            "Epoch 11/20\n",
            "50000/50000 [==============================] - 20s 404us/step - loss: 0.9179 - acc: 0.6804 - val_loss: 0.8576 - val_acc: 0.6987\n",
            "Epoch 12/20\n",
            "50000/50000 [==============================] - 20s 403us/step - loss: 0.8908 - acc: 0.6906 - val_loss: 0.8467 - val_acc: 0.7023\n",
            "Epoch 13/20\n",
            "50000/50000 [==============================] - 21s 413us/step - loss: 0.8658 - acc: 0.6987 - val_loss: 0.8422 - val_acc: 0.7104\n",
            "Epoch 14/20\n",
            "50000/50000 [==============================] - 21s 413us/step - loss: 0.8429 - acc: 0.7073 - val_loss: 0.8435 - val_acc: 0.7086\n",
            "Epoch 15/20\n",
            "50000/50000 [==============================] - 21s 411us/step - loss: 0.8295 - acc: 0.7120 - val_loss: 0.8177 - val_acc: 0.7141\n",
            "Epoch 16/20\n",
            "50000/50000 [==============================] - 21s 418us/step - loss: 0.8123 - acc: 0.7186 - val_loss: 0.7872 - val_acc: 0.7267\n",
            "Epoch 17/20\n",
            "50000/50000 [==============================] - 20s 406us/step - loss: 0.7979 - acc: 0.7241 - val_loss: 0.7964 - val_acc: 0.7259\n",
            "Epoch 18/20\n",
            "50000/50000 [==============================] - 20s 409us/step - loss: 0.7874 - acc: 0.7273 - val_loss: 0.7879 - val_acc: 0.7300\n",
            "Epoch 19/20\n",
            "50000/50000 [==============================] - 20s 409us/step - loss: 0.7714 - acc: 0.7331 - val_loss: 0.7673 - val_acc: 0.7366\n",
            "Epoch 20/20\n",
            "50000/50000 [==============================] - 20s 408us/step - loss: 0.7618 - acc: 0.7389 - val_loss: 0.7627 - val_acc: 0.7411\n"
          ],
          "name": "stdout"
        }
      ]
    },
    {
      "cell_type": "markdown",
      "metadata": {
        "id": "M94c3ScIPGkt",
        "colab_type": "text"
      },
      "source": [
        "### Augmentacja danych"
      ]
    },
    {
      "cell_type": "code",
      "metadata": {
        "id": "vss1V6PDUXn0",
        "colab_type": "code",
        "colab": {}
      },
      "source": [
        "print('Użycie techniki augmentacji danych')\n",
        "\n",
        "# augmentacja danych w czasie rzeczywistym, podczas trenowania\n",
        "datagen = ImageDataGenerator(\n",
        "    rotation_range=0.1, # losowe obracanie obrazów w zakresie 0 do 180 stopni\n",
        "    width_shift_range=0.1, # losowe przesuwanie obrazów w poziomie\n",
        "    height_shift_range=0.1, # losowe przesuwanie obrazów w pionie\n",
        "    shear_range=0., # losowe ściannie obrazów\n",
        "    zoom_range=0., # losowy zoom obrazów\n",
        "    fill_mode='nearset', # tryp wypełniania punktów poza granicami wejściowymi\n",
        "    horizontal_flip=True, # losowo odwraca zdjęcia horyzontalnie\n",
        "    vertical_flip=True, # losowo odwraca zdjecia pionowo\n",
        "    rescale=None, # ustawienie współczynnika przeskalowania\n",
        "    validation_split=0.0 # ułamek danych zarezerwowanych dla walidacji\n",
        "    )\n",
        "\n",
        "# dopasowanie zbioru do naszego zadania (obliczenie średniej, odchylenia)\n",
        "datagen.fit(train_images)\n",
        "\n",
        "# trenowanie modelu wsadami generowanymi przez datagen.flow()\n",
        "model.fit_generator(datagen.flow(train_images, test_images, batch_size=batch_size),\n",
        "                   epochs=epochs,\n",
        "                   validation_data=(test_images, test_labels),\n",
        "                   workers=4)"
      ],
      "execution_count": 0,
      "outputs": []
    },
    {
      "cell_type": "markdown",
      "metadata": {
        "id": "16jxPsEPT8H2",
        "colab_type": "text"
      },
      "source": [
        "### Zapisanie modelu"
      ]
    },
    {
      "cell_type": "code",
      "metadata": {
        "id": "uctHd48jT7RP",
        "colab_type": "code",
        "outputId": "6a02f3e0-854e-444f-8721-696a8fcc97fb",
        "colab": {
          "base_uri": "https://localhost:8080/",
          "height": 34
        }
      },
      "source": [
        "if not os.path.isdir(save_dir):\n",
        "    os.mkdir(save_dir)\n",
        "model_path = os.path.join(save_dir, model_name)\n",
        "model.save(model_path)\n",
        "print('Saved trained model at {}.'.format(model_path))"
      ],
      "execution_count": 0,
      "outputs": [
        {
          "output_type": "stream",
          "text": [
            "Saved trained model at /content/saved_models/keras_cifar10_trained_model.h5.\n"
          ],
          "name": "stdout"
        }
      ]
    },
    {
      "cell_type": "markdown",
      "metadata": {
        "id": "l9bagiBAxgu1",
        "colab_type": "text"
      },
      "source": [
        "### Ocena modelu"
      ]
    },
    {
      "cell_type": "code",
      "metadata": {
        "id": "gBJfupYSxKCr",
        "colab_type": "code",
        "outputId": "3cc03428-abdb-49c3-f010-19346a832b3d",
        "colab": {
          "base_uri": "https://localhost:8080/",
          "height": 68
        }
      },
      "source": [
        "score = model.evaluate(test_images, test_labels)\n",
        "print('Test loss:', score[0])\n",
        "print('Test accuracy:', score[1])"
      ],
      "execution_count": 0,
      "outputs": [
        {
          "output_type": "stream",
          "text": [
            "10000/10000 [==============================] - 1s 148us/step\n",
            "Test loss: 0.7626843214988709\n",
            "Test accuracy: 0.7411\n"
          ],
          "name": "stdout"
        }
      ]
    },
    {
      "cell_type": "markdown",
      "metadata": {
        "id": "eCH0lcaS1qkr",
        "colab_type": "text"
      },
      "source": [
        "### Wykres dokładności"
      ]
    },
    {
      "cell_type": "code",
      "metadata": {
        "id": "J_VTsbZ61taH",
        "colab_type": "code",
        "colab": {}
      },
      "source": [
        "def make_accuracy_plot(history):\n",
        "    \"\"\"\n",
        "    Funkcja zwraca wykres dokładności (accuracy) modelu na zbiorze treningowym\n",
        "    i walidacyjnym.\n",
        "    \"\"\"\n",
        "    import matplotlib.pyplot as plt\n",
        "    import seaborn as sns\n",
        "    sns.set()\n",
        "    acc, val_acc = history.history['acc'], history.history['val_acc']\n",
        "    epochs = range(1, len(acc) + 1)\n",
        "\n",
        "    plt.figure(figsize=(10, 8))\n",
        "    plt.plot(epochs, acc, label='Dokładność trenowania', marker='o')\n",
        "    plt.plot(epochs, val_acc, label='Dokładność walidacji', marker='o')\n",
        "    plt.legend()\n",
        "    plt.title('Dokładność trenowania i walidacji')\n",
        "    plt.xlabel('Epoki')\n",
        "    plt.ylabel('Dokładność')\n",
        "    plt.show()\n",
        "\n",
        "def make_loss_plot(history):\n",
        "    \"\"\"\n",
        "    Funkcja zwraca wykres straty (loss) modelu na zbiorze treningowym\n",
        "    i walidacyjnym.\n",
        "    \"\"\"\n",
        "    import matplotlib.pyplot as plt\n",
        "    import seaborn as sns\n",
        "    sns.set()\n",
        "    loss, val_loss = history.history['loss'], history.history['val_loss']\n",
        "    epochs = range(1, len(loss) + 1)\n",
        "    \n",
        "    plt.figure(figsize=(10, 8))\n",
        "    plt.plot(epochs, loss, label='Strata trenowania', marker='o')\n",
        "    plt.plot(epochs, val_loss, label='Strata walidacji', marker='o')\n",
        "    plt.legend()\n",
        "    plt.title('Strata trenowania i walidacji')\n",
        "    plt.xlabel('Epoki')\n",
        "    plt.ylabel('Strata')\n",
        "    plt.show()"
      ],
      "execution_count": 0,
      "outputs": []
    },
    {
      "cell_type": "code",
      "metadata": {
        "id": "Mjr7ej0-9kMj",
        "colab_type": "code",
        "outputId": "9952747c-e36d-4f21-87ee-39c8d779d94e",
        "colab": {
          "base_uri": "https://localhost:8080/",
          "height": 518
        }
      },
      "source": [
        "make_accuracy_plot(history)"
      ],
      "execution_count": 0,
      "outputs": [
        {
          "output_type": "display_data",
          "data": {
            "image/png": "[encoded data removed]",
            "text/plain": [
              "<Figure size 720x576 with 1 Axes>"
            ]
          },
          "metadata": {
            "tags": []
          }
        }
      ]
    },
    {
      "cell_type": "code",
      "metadata": {
        "id": "j-AkGQx-9p7z",
        "colab_type": "code",
        "outputId": "629ad5dc-6670-4147-f87e-19e212152052",
        "colab": {
          "base_uri": "https://localhost:8080/",
          "height": 518
        }
      },
      "source": [
        "make_loss_plot(history)"
      ],
      "execution_count": 0,
      "outputs": [
        {
          "output_type": "display_data",
          "data": {
            "image/png": "[encoded data removed]",
            "text/plain": [
              "<Figure size 720x576 with 1 Axes>"
            ]
          },
          "metadata": {
            "tags": []
          }
        }
      ]
    }
  ]
}