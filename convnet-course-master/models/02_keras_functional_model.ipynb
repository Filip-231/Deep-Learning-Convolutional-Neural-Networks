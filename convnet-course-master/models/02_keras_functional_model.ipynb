{
  "nbformat": 4,
  "nbformat_minor": 0,
  "metadata": {
    "colab": {
      "name": "Untitled30.ipynb",
      "provenance": [],
      "include_colab_link": true
    },
    "kernelspec": {
      "name": "python3",
      "display_name": "Python 3"
    },
    "accelerator": "GPU"
  },
  "cells": [
    {
      "cell_type": "markdown",
      "metadata": {
        "id": "view-in-github",
        "colab_type": "text"
      },
      "source": [
        "<a href=\"https://colab.research.google.com/github/krakowiakpawel9/convnet-course/blob/master/models/02_keras_functional_model.ipynb\" target=\"_parent\"><img src=\"https://colab.research.google.com/assets/colab-badge.svg\" alt=\"Open In Colab\"/></a>"
      ]
    },
    {
      "cell_type": "markdown",
      "metadata": {
        "id": "4O8JpU6IVX1h",
        "colab_type": "text"
      },
      "source": [
        "* @author: krakowiakpawel9@gmail.com  \n",
        "* @site: e-smartdata.org"
      ]
    },
    {
      "cell_type": "markdown",
      "metadata": {
        "id": "Q41KU8i46Pgv",
        "colab_type": "text"
      },
      "source": [
        "## Keras Sequential Model\n",
        "\n",
        "Budowa modelu w oparciu o dodawanie kolejnych warstw do stosu. Mniej 'customizowalne' niż klasa Functional."
      ]
    },
    {
      "cell_type": "code",
      "metadata": {
        "id": "JDSbfLSh5WK1",
        "colab_type": "code",
        "outputId": "7a4d1aae-fe67-45e0-f8a1-7c729fd68dd4",
        "colab": {
          "base_uri": "https://localhost:8080/",
          "height": 204
        }
      },
      "source": [
        "from keras.models import Sequential\n",
        "from keras.layers import Dense\n",
        "\n",
        "model = Sequential()\n",
        "model.add(Dense(units=2, input_shape=(2,)))\n",
        "model.add(Dense(units=1, activation='relu'))\n",
        "model.summary()"
      ],
      "execution_count": 0,
      "outputs": [
        {
          "output_type": "stream",
          "text": [
            "_________________________________________________________________\n",
            "Layer (type)                 Output Shape              Param #   \n",
            "=================================================================\n",
            "dense_12 (Dense)             (None, 2)                 6         \n",
            "_________________________________________________________________\n",
            "dense_13 (Dense)             (None, 1)                 3         \n",
            "=================================================================\n",
            "Total params: 9\n",
            "Trainable params: 9\n",
            "Non-trainable params: 0\n",
            "_________________________________________________________________\n"
          ],
          "name": "stdout"
        }
      ]
    },
    {
      "cell_type": "markdown",
      "metadata": {
        "id": "0hgmn2_Y3EjO",
        "colab_type": "text"
      },
      "source": [
        "## Keras Functional Model\n",
        "\n",
        "Pozwala na bardziej elastyczne budowanie sieci neuronowych. Można określić wiele wejść i wyjść do i z warstw, jak również pozwala na dzielenie warstw. Modele są definiowane przez tworzenie instancji warstw i łączenie ich bezpośrednio."
      ]
    },
    {
      "cell_type": "markdown",
      "metadata": {
        "id": "3IlXy3ol3r7Q",
        "colab_type": "text"
      },
      "source": [
        "### Zdefiniowanie Wejścia\n",
        "W odróżnieniu od modelu sekwencyjnego (Sequential Model) musimy utworzyc osobną warstwę wejścia (Input), która będzie określać rozmiar naszych danych. "
      ]
    },
    {
      "cell_type": "code",
      "metadata": {
        "id": "e6CulDdM3L_A",
        "colab_type": "code",
        "colab": {}
      },
      "source": [
        "from keras.layers import Input\n",
        "visible = Input(shape=(2,))"
      ],
      "execution_count": 0,
      "outputs": []
    },
    {
      "cell_type": "markdown",
      "metadata": {
        "id": "AQk-bQjb4QXM",
        "colab_type": "text"
      },
      "source": [
        "### Warstwa Łącząca"
      ]
    },
    {
      "cell_type": "code",
      "metadata": {
        "id": "M5enBmku4EMC",
        "colab_type": "code",
        "colab": {}
      },
      "source": [
        "from keras.layers import Dense\n",
        "hidden = Dense(2)(visible)"
      ],
      "execution_count": 0,
      "outputs": []
    },
    {
      "cell_type": "markdown",
      "metadata": {
        "id": "2H7uAjOE4myg",
        "colab_type": "text"
      },
      "source": [
        "### Utworzenie Modelu"
      ]
    },
    {
      "cell_type": "code",
      "metadata": {
        "id": "tquUs3eY4d30",
        "colab_type": "code",
        "colab": {}
      },
      "source": [
        "from keras.models import Model\n",
        "model = Model(inputs=visible, outputs=hidden)"
      ],
      "execution_count": 0,
      "outputs": []
    },
    {
      "cell_type": "code",
      "metadata": {
        "id": "usz1UK4A4tbf",
        "colab_type": "code",
        "outputId": "d2b73e57-b4ab-4736-d2d4-7c7c3b29ff32",
        "colab": {
          "base_uri": "https://localhost:8080/",
          "height": 204
        }
      },
      "source": [
        "model.summary()"
      ],
      "execution_count": 0,
      "outputs": [
        {
          "output_type": "stream",
          "text": [
            "_________________________________________________________________\n",
            "Layer (type)                 Output Shape              Param #   \n",
            "=================================================================\n",
            "input_1 (InputLayer)         (None, 2)                 0         \n",
            "_________________________________________________________________\n",
            "dense_3 (Dense)              (None, 2)                 6         \n",
            "=================================================================\n",
            "Total params: 6\n",
            "Trainable params: 6\n",
            "Non-trainable params: 0\n",
            "_________________________________________________________________\n"
          ],
          "name": "stdout"
        }
      ]
    },
    {
      "cell_type": "markdown",
      "metadata": {
        "id": "0_eHUAGk48Th",
        "colab_type": "text"
      },
      "source": [
        "### Podsumowanie"
      ]
    },
    {
      "cell_type": "code",
      "metadata": {
        "id": "Z7wiikCc429Z",
        "colab_type": "code",
        "outputId": "2fd03576-24eb-44c1-9921-b51dd86e1787",
        "colab": {
          "base_uri": "https://localhost:8080/",
          "height": 204
        }
      },
      "source": [
        "from keras.models import Model\n",
        "from keras.layers import Input, Dense\n",
        "\n",
        "visible = Input(shape=(2,))\n",
        "hidden = Dense(2)(visible)\n",
        "model = Model(inputs=visible, outputs=hidden)\n",
        "\n",
        "model.summary()"
      ],
      "execution_count": 0,
      "outputs": [
        {
          "output_type": "stream",
          "text": [
            "_________________________________________________________________\n",
            "Layer (type)                 Output Shape              Param #   \n",
            "=================================================================\n",
            "input_4 (InputLayer)         (None, 2)                 0         \n",
            "_________________________________________________________________\n",
            "dense_6 (Dense)              (None, 2)                 6         \n",
            "=================================================================\n",
            "Total params: 6\n",
            "Trainable params: 6\n",
            "Non-trainable params: 0\n",
            "_________________________________________________________________\n"
          ],
          "name": "stdout"
        }
      ]
    }
  ]
}